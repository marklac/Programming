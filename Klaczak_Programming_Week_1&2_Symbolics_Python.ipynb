{
 "cells": [
  {
   "cell_type": "markdown",
   "id": "8a1b37d0-30be-4b4f-ab0a-6731546a8498",
   "metadata": {},
   "source": [
    "# A really quick  and brief intro to symbolic Mathematics in Python (For quantum information)"
   ]
  },
  {
   "cell_type": "code",
   "execution_count": 1,
   "id": "3a408292-7b90-4cdc-9931-b76352bd2944",
   "metadata": {},
   "outputs": [],
   "source": [
    "#Importing necessary modules\n",
    "from sympy import *\n",
    "from sympy.physics.quantum import TensorProduct,Dagger\n",
    "from sympy import sqrt\n",
    "from sympy.physics.quantum.qubit import Qubit,matrix_to_qubit,represent,matrix_to_density\n",
    "from sympy.physics.quantum.gate import HadamardGate\n",
    "from sympy.physics.quantum.qapply import qapply\n",
    "from sympy.physics.quantum.gate import CNOT\n",
    "from sympy.physics.quantum.gate import X,Y,Z"
   ]
  },
  {
   "cell_type": "markdown",
   "id": "1bf4189b-e28e-439c-a81e-444d6e27e111",
   "metadata": {},
   "source": [
    "# Definition of Symbols"
   ]
  },
  {
   "cell_type": "markdown",
   "id": "7fd859d4-63da-42af-8aaa-39757ccd9bae",
   "metadata": {},
   "source": [
    "In sympy you need to tell the system which variables are to be considered symbols, for that we use the symbols function"
   ]
  },
  {
   "cell_type": "code",
   "execution_count": 2,
   "id": "de1fcd20-aa4f-4259-8a37-f3a8ab1090bd",
   "metadata": {},
   "outputs": [],
   "source": [
    "θ,ϕ,α,β=symbols('theta phi alpha beta')"
   ]
  },
  {
   "cell_type": "markdown",
   "id": "8abba2ea-dbc2-40a4-ad96-7bb54042ac5e",
   "metadata": {},
   "source": [
    "Once symbols are defined you can do computations on them, similar to the way you do with numbers, we use the same symbols for addition, substraction, multiplication and division, let us write and expression that combines all of them "
   ]
  },
  {
   "cell_type": "code",
   "execution_count": 3,
   "id": "751b6451-30e6-484b-aaf1-ae87a2c708a1",
   "metadata": {},
   "outputs": [
    {
     "data": {
      "text/latex": [
       "$\\displaystyle \\frac{\\alpha \\left(\\phi + \\theta\\right)}{- \\alpha \\beta + \\alpha \\phi}$"
      ],
      "text/plain": [
       "alpha*(phi + theta)/(-alpha*beta + alpha*phi)"
      ]
     },
     "execution_count": 3,
     "metadata": {},
     "output_type": "execute_result"
    }
   ],
   "source": [
    "var=α*(θ+ϕ)/(α*ϕ-α*β)\n",
    "var"
   ]
  },
  {
   "cell_type": "markdown",
   "id": "26bbbbf3-5115-4a98-b14a-ea1abf82ffd0",
   "metadata": {},
   "source": [
    "We may simplify an expression for example in the denominator there is a common factor of $\\alpha$"
   ]
  },
  {
   "cell_type": "code",
   "execution_count": 4,
   "id": "ea83d0ac-6561-4a86-8ac2-d5649df37166",
   "metadata": {},
   "outputs": [
    {
     "data": {
      "text/latex": [
       "$\\displaystyle - \\frac{\\phi + \\theta}{\\beta - \\phi}$"
      ],
      "text/plain": [
       "-(phi + theta)/(beta - phi)"
      ]
     },
     "execution_count": 4,
     "metadata": {},
     "output_type": "execute_result"
    }
   ],
   "source": [
    "var.simplify()"
   ]
  },
  {
   "cell_type": "markdown",
   "id": "27d74c5c-c1e6-47d1-8aa9-047d27fec0a6",
   "metadata": {},
   "source": [
    "# Vectors and Matrices"
   ]
  },
  {
   "cell_type": "markdown",
   "id": "cf34fa21-9e8d-447a-a6a3-f0b675671eb3",
   "metadata": {},
   "source": [
    "Both vectors and matrices can be created from python lists, the difference in the creation of vectors and matrices is whether you use a list or a nested list. Let us construct both to get some practice. Let us start by defining the vector\n",
    "\n",
    "$| \\Psi \\rangle = \\begin{bmatrix} \\alpha  \\\\ \\beta \\end{bmatrix}$\n",
    "\n",
    "To create a vector we simply do Matrix([$element_1,element_2,.....,element_n$])"
   ]
  },
  {
   "cell_type": "code",
   "execution_count": 5,
   "id": "38a7ee20-8f79-4f46-a5c9-0a952b096c50",
   "metadata": {},
   "outputs": [
    {
     "data": {
      "text/latex": [
       "$\\displaystyle \\left[\\begin{matrix}\\alpha\\\\\\beta\\end{matrix}\\right]$"
      ],
      "text/plain": [
       "Matrix([\n",
       "[alpha],\n",
       "[ beta]])"
      ]
     },
     "execution_count": 5,
     "metadata": {},
     "output_type": "execute_result"
    }
   ],
   "source": [
    "Ψ=Matrix([α,β])\n",
    "Ψ"
   ]
  },
  {
   "cell_type": "markdown",
   "id": "2ccc0e36-aed0-40aa-a100-cf7421846bf0",
   "metadata": {},
   "source": [
    "**Task 1:** Try creating the vector \n",
    "\n",
    "$| 00 \\rangle = \\begin{bmatrix}1 \\\\ 0 \\\\ 0 \\\\ 0 \\end{bmatrix}$\n",
    "\n",
    "and asign the name vect1"
   ]
  },
  {
   "cell_type": "code",
   "execution_count": 6,
   "id": "242f3f70-d5df-4dac-81da-d425116a33ac",
   "metadata": {},
   "outputs": [],
   "source": [
    "vect1=Matrix([1,0,0,0]) # Complete this line"
   ]
  },
  {
   "cell_type": "code",
   "execution_count": 7,
   "id": "ff3b55c4-ed0e-4638-a633-866a95ef6042",
   "metadata": {},
   "outputs": [
    {
     "data": {
      "text/plain": [
       "True"
      ]
     },
     "execution_count": 7,
     "metadata": {},
     "output_type": "execute_result"
    }
   ],
   "source": [
    "vect1==represent(Qubit('00')) # Check task 1"
   ]
  },
  {
   "cell_type": "markdown",
   "id": "84db66fc-7c74-4997-b330-ea2eafbdc562",
   "metadata": {},
   "source": [
    "Matrices are defined quite similarly, all we need to do is input a nested list, for example let us create the following matrix:\n",
    "\n",
    "$M=\\begin{pmatrix}0 & i \\alpha \\\\ -i \\alpha & 0 \\end{pmatrix}$"
   ]
  },
  {
   "cell_type": "code",
   "execution_count": 8,
   "id": "71b17cbf-6f9a-4f2d-af1a-83e52a9a2cd5",
   "metadata": {},
   "outputs": [
    {
     "data": {
      "text/latex": [
       "$\\displaystyle \\left[\\begin{matrix}0 & i \\alpha\\\\- i \\alpha & 0\\end{matrix}\\right]$"
      ],
      "text/plain": [
       "Matrix([\n",
       "[       0, I*alpha],\n",
       "[-I*alpha,       0]])"
      ]
     },
     "execution_count": 8,
     "metadata": {},
     "output_type": "execute_result"
    }
   ],
   "source": [
    "M=Matrix([[0,I*α],[-I*α,0]]) # Complete this line\n",
    "M"
   ]
  },
  {
   "cell_type": "markdown",
   "id": "e8898de0-d8ac-4c34-8ade-8c25d8de5da2",
   "metadata": {},
   "source": [
    "Matrix products are obtained simply by using the standard python multiplication operator, for example acting $M$ on $|\\Psi \\rangle$"
   ]
  },
  {
   "cell_type": "code",
   "execution_count": 9,
   "id": "9b500c04-85f7-4630-b988-ab313b9bdbb0",
   "metadata": {},
   "outputs": [
    {
     "data": {
      "text/latex": [
       "$\\displaystyle \\left[\\begin{matrix}i \\alpha \\beta\\\\- i \\alpha^{2}\\end{matrix}\\right]$"
      ],
      "text/plain": [
       "Matrix([\n",
       "[I*alpha*beta],\n",
       "[ -I*alpha**2]])"
      ]
     },
     "execution_count": 9,
     "metadata": {},
     "output_type": "execute_result"
    }
   ],
   "source": [
    "M*Ψ"
   ]
  },
  {
   "cell_type": "markdown",
   "id": "8fc6bff3-d6f2-44d4-81f9-1252a48f5b01",
   "metadata": {},
   "source": [
    "In quantum the symbol $\\dagger$ stands for conjugate transpose, to find the conjugate of an object in sympy we simply use the conjugate function, while the transpose is obtained by the .T method, using $|\\Psi \\rangle$ we can exemplify this"
   ]
  },
  {
   "cell_type": "code",
   "execution_count": 10,
   "id": "a793ae0b-fec9-4c72-ac6d-3721335a5074",
   "metadata": {},
   "outputs": [
    {
     "data": {
      "text/latex": [
       "$\\displaystyle \\left[\\begin{matrix}\\alpha & \\beta\\end{matrix}\\right]$"
      ],
      "text/plain": [
       "Matrix([[alpha, beta]])"
      ]
     },
     "execution_count": 10,
     "metadata": {},
     "output_type": "execute_result"
    }
   ],
   "source": [
    "Ψ.T"
   ]
  },
  {
   "cell_type": "code",
   "execution_count": 11,
   "id": "c5bad75a-5687-4cc6-a73c-b5b3a415a6f6",
   "metadata": {},
   "outputs": [
    {
     "data": {
      "text/latex": [
       "$\\displaystyle \\left[\\begin{matrix}\\overline{\\alpha}\\\\\\overline{\\beta}\\end{matrix}\\right]$"
      ],
      "text/plain": [
       "Matrix([\n",
       "[conjugate(alpha)],\n",
       "[ conjugate(beta)]])"
      ]
     },
     "execution_count": 11,
     "metadata": {},
     "output_type": "execute_result"
    }
   ],
   "source": [
    "conjugate(Ψ)"
   ]
  },
  {
   "cell_type": "markdown",
   "id": "fac3e3a9-ba6c-43c9-aeaf-b0e34eb485e2",
   "metadata": {},
   "source": [
    "Then for $(| \\Psi \\rangle) ^{\\dagger}= \\langle \\Psi |$ we simply combine the two operations"
   ]
  },
  {
   "cell_type": "code",
   "execution_count": 12,
   "id": "4cefd18d-7449-46d7-ae83-e866c358360c",
   "metadata": {},
   "outputs": [
    {
     "data": {
      "text/latex": [
       "$\\displaystyle \\left[\\begin{matrix}\\overline{\\alpha} & \\overline{\\beta}\\end{matrix}\\right]$"
      ],
      "text/plain": [
       "Matrix([[conjugate(alpha), conjugate(beta)]])"
      ]
     },
     "execution_count": 12,
     "metadata": {},
     "output_type": "execute_result"
    }
   ],
   "source": [
    "conjugate(Ψ).T"
   ]
  },
  {
   "cell_type": "markdown",
   "id": "3276898f-c044-4833-b911-7d9ba690e9e0",
   "metadata": {},
   "source": [
    "We may now compute the inner product which is denoted as $\\langle \\Psi | \\Psi \\rangle$"
   ]
  },
  {
   "cell_type": "code",
   "execution_count": 13,
   "id": "3faedf58-c42a-49de-a1f6-fdf780f55aec",
   "metadata": {},
   "outputs": [
    {
     "data": {
      "text/latex": [
       "$\\displaystyle \\left[\\begin{matrix}\\alpha \\overline{\\alpha} + \\beta \\overline{\\beta}\\end{matrix}\\right]$"
      ],
      "text/plain": [
       "Matrix([[alpha*conjugate(alpha) + beta*conjugate(beta)]])"
      ]
     },
     "execution_count": 13,
     "metadata": {},
     "output_type": "execute_result"
    }
   ],
   "source": [
    "((conjugate(Ψ).T)*Ψ)"
   ]
  },
  {
   "cell_type": "markdown",
   "id": "82d892f3-1e1a-4308-966d-9aacf49f872b",
   "metadata": {},
   "source": [
    "Due to it coming from matrix multiplication sympy returns a vector of just one element, we may obtain the result simply by indexing it"
   ]
  },
  {
   "cell_type": "code",
   "execution_count": 14,
   "id": "5bc0c164-0cb4-45d5-8f9e-136629f5c2ca",
   "metadata": {},
   "outputs": [
    {
     "data": {
      "text/latex": [
       "$\\displaystyle \\alpha \\overline{\\alpha} + \\beta \\overline{\\beta}$"
      ],
      "text/plain": [
       "alpha*conjugate(alpha) + beta*conjugate(beta)"
      ]
     },
     "execution_count": 14,
     "metadata": {},
     "output_type": "execute_result"
    }
   ],
   "source": [
    "((conjugate(Ψ).T)*Ψ)[0]"
   ]
  },
  {
   "cell_type": "markdown",
   "id": "3e5dbd11-4647-4ef6-975c-3170d3aff57d",
   "metadata": {},
   "source": [
    "**Subjective advice** : I like to see $x \\bar{x}$ as $|x|^{2}$ to do it you may simply substitute $\\bar{x}$ for $\\frac{|x|^{2}}{x}$, though not powerful on it's own it can be helpful if incorporated in more complicated calculations"
   ]
  },
  {
   "cell_type": "markdown",
   "id": "49b09086-d9be-4fef-b6e9-6fcf930aa783",
   "metadata": {},
   "source": [
    "**Task 3.** A matrix is said to be unitary if $U^{\\dagger} U = \\mathcal{I}$ , under what condition is M a unitary matrix, remember that $\\dagger$ stands for conjugate transpose, find the condition and implement it here "
   ]
  },
  {
   "cell_type": "code",
   "execution_count": 15,
   "id": "28c733c9-588e-485f-9865-25b0a890f619",
   "metadata": {},
   "outputs": [
    {
     "data": {
      "text/latex": [
       "$\\displaystyle \\left[\\begin{matrix}\\alpha \\overline{\\alpha} & 0\\\\0 & \\alpha \\overline{\\alpha}\\end{matrix}\\right]$"
      ],
      "text/plain": [
       "Matrix([\n",
       "[alpha*conjugate(alpha),                      0],\n",
       "[                     0, alpha*conjugate(alpha)]])"
      ]
     },
     "execution_count": 15,
     "metadata": {},
     "output_type": "execute_result"
    }
   ],
   "source": [
    "#task 3\n",
    "M1 = conjugate(M).T\n",
    "M1*M"
   ]
  },
  {
   "cell_type": "markdown",
   "id": "514db151-e1a5-4ff1-a67e-16e11905e2a2",
   "metadata": {
    "tags": []
   },
   "source": [
    "#### The computational basis\n",
    "\n",
    "Remember from the lecture that the computational basis is given by:"
   ]
  },
  {
   "cell_type": "code",
   "execution_count": 16,
   "id": "9a32b4e7-dc23-4607-bead-d15602ac62fa",
   "metadata": {},
   "outputs": [
    {
     "data": {
      "text/latex": [
       "$\\displaystyle \\left[\\begin{matrix}1\\\\0\\end{matrix}\\right]$"
      ],
      "text/plain": [
       "Matrix([\n",
       "[1],\n",
       "[0]])"
      ]
     },
     "execution_count": 16,
     "metadata": {},
     "output_type": "execute_result"
    }
   ],
   "source": [
    "zero=Matrix([1,0])\n",
    "zero"
   ]
  },
  {
   "cell_type": "code",
   "execution_count": 17,
   "id": "8f851cda-0ef8-4b75-a6cc-23aa0b9dc381",
   "metadata": {},
   "outputs": [
    {
     "data": {
      "text/latex": [
       "$\\displaystyle \\left[\\begin{matrix}0\\\\1\\end{matrix}\\right]$"
      ],
      "text/plain": [
       "Matrix([\n",
       "[0],\n",
       "[1]])"
      ]
     },
     "execution_count": 17,
     "metadata": {},
     "output_type": "execute_result"
    }
   ],
   "source": [
    "one=Matrix([0,1])\n",
    "one"
   ]
  },
  {
   "cell_type": "markdown",
   "id": "7b8e306c-8590-4f28-aaab-fa8a55931401",
   "metadata": {
    "tags": []
   },
   "source": [
    "Now remember from the lecture that if we deal with more than one qubit we can obtain the appropiate basis from the tensor product\n",
    "\n",
    "![](Pr.png)\n",
    "\n",
    "In sympy that product is done by simply calling kronecker_product(A,B)"
   ]
  },
  {
   "cell_type": "code",
   "execution_count": 18,
   "id": "f50a700c-2e87-439e-9596-93bc78eacd22",
   "metadata": {},
   "outputs": [
    {
     "data": {
      "text/latex": [
       "$\\displaystyle \\left[\\begin{matrix}1\\\\0\\\\0\\\\0\\end{matrix}\\right]$"
      ],
      "text/plain": [
       "Matrix([\n",
       "[1],\n",
       "[0],\n",
       "[0],\n",
       "[0]])"
      ]
     },
     "execution_count": 18,
     "metadata": {},
     "output_type": "execute_result"
    }
   ],
   "source": [
    "kronecker_product(zero,zero)"
   ]
  },
  {
   "cell_type": "markdown",
   "id": "82db9c0d-18d1-4708-9d52-c51ca28a84a5",
   "metadata": {},
   "source": [
    "Now the outer product can also be found using this function, we simply have to pass a bra (row vector) and a ket (column vector) instead of two column vectors. So to obtain $|0\\rangle \\langle0|$ we simply do:"
   ]
  },
  {
   "cell_type": "code",
   "execution_count": 19,
   "id": "c90c7e75-7630-4187-acb6-01378207a9f7",
   "metadata": {},
   "outputs": [
    {
     "data": {
      "text/latex": [
       "$\\displaystyle \\left[\\begin{matrix}1 & 0\\\\0 & 0\\end{matrix}\\right]$"
      ],
      "text/plain": [
       "Matrix([\n",
       "[1, 0],\n",
       "[0, 0]])"
      ]
     },
     "execution_count": 19,
     "metadata": {},
     "output_type": "execute_result"
    }
   ],
   "source": [
    "kronecker_product(zero,zero.T)"
   ]
  },
  {
   "cell_type": "markdown",
   "id": "84e2f4f0-b662-4229-ac01-ce183e776622",
   "metadata": {},
   "source": [
    "For this one, we may also just use normal matrix multiplication as a shorcut"
   ]
  },
  {
   "cell_type": "code",
   "execution_count": 20,
   "id": "d654881c-0fbd-46ad-b2f4-a2638fe5c481",
   "metadata": {},
   "outputs": [
    {
     "data": {
      "text/latex": [
       "$\\displaystyle \\left[\\begin{matrix}1 & 0\\\\0 & 0\\end{matrix}\\right]$"
      ],
      "text/plain": [
       "Matrix([\n",
       "[1, 0],\n",
       "[0, 0]])"
      ]
     },
     "execution_count": 20,
     "metadata": {},
     "output_type": "execute_result"
    }
   ],
   "source": [
    "zero*zero.T"
   ]
  },
  {
   "cell_type": "markdown",
   "id": "869036c0-3369-4736-a755-6341ea42eca5",
   "metadata": {},
   "source": [
    "**Task 4** Define the pauli matrices, the hadamard (H) and the two dimentional identity\n",
    "\n",
    "$X=\\begin{pmatrix}0 & 1 \\\\ 1 & 0\\end{pmatrix}$\n",
    "$Y=\\begin{pmatrix}0 & -i \\\\ i & 0\\end{pmatrix}$\n",
    "$Z=\\begin{pmatrix}1 & 0 \\\\ 0 & -1\\end{pmatrix}$\n",
    "$H = \\frac{1}{\\sqrt{2}}\\begin{pmatrix}1 & 1 \\\\ 1 & -1\\end{pmatrix}$"
   ]
  },
  {
   "cell_type": "code",
   "execution_count": 21,
   "id": "4e3f53bc-cdef-4fea-a475-a57824978022",
   "metadata": {},
   "outputs": [
    {
     "data": {
      "text/latex": [
       "$\\displaystyle \\left[\\begin{matrix}1 & 0\\\\0 & -1\\end{matrix}\\right]$"
      ],
      "text/plain": [
       "Matrix([\n",
       "[1,  0],\n",
       "[0, -1]])"
      ]
     },
     "execution_count": 21,
     "metadata": {},
     "output_type": "execute_result"
    }
   ],
   "source": [
    "# Complete this cell\n",
    "z=Matrix([[1,0],[0,-1]])\n",
    "x=Matrix([[0,1],[1,0]])\n",
    "y=Matrix([[0,-I],[I,0]])\n",
    "H=1/sqrt(2)*Matrix([[1,1],[1,-1]])\n",
    "iden=-I*x*y*z\n",
    "z"
   ]
  },
  {
   "cell_type": "markdown",
   "id": "c317d44d-1703-44bb-ac8d-6fc706497f32",
   "metadata": {},
   "source": [
    "**Task 5** Obtain $H \\otimes Y \\otimes H \\otimes Z (\\theta |0000\\rangle +\\alpha |1111\\rangle )$ "
   ]
  },
  {
   "cell_type": "code",
   "execution_count": 22,
   "id": "b3afaa04",
   "metadata": {},
   "outputs": [
    {
     "data": {
      "text/latex": [
       "$\\displaystyle \\left[\\begin{matrix}0\\\\\\frac{i \\alpha}{2}\\\\0\\\\- \\frac{i \\alpha}{2}\\\\\\frac{i \\theta}{2}\\\\0\\\\\\frac{i \\theta}{2}\\\\0\\\\0\\\\- \\frac{i \\alpha}{2}\\\\0\\\\\\frac{i \\alpha}{2}\\\\\\frac{i \\theta}{2}\\\\0\\\\\\frac{i \\theta}{2}\\\\0\\end{matrix}\\right]$"
      ],
      "text/plain": [
       "Matrix([\n",
       "[         0],\n",
       "[ I*alpha/2],\n",
       "[         0],\n",
       "[-I*alpha/2],\n",
       "[ I*theta/2],\n",
       "[         0],\n",
       "[ I*theta/2],\n",
       "[         0],\n",
       "[         0],\n",
       "[-I*alpha/2],\n",
       "[         0],\n",
       "[ I*alpha/2],\n",
       "[ I*theta/2],\n",
       "[         0],\n",
       "[ I*theta/2],\n",
       "[         0]])"
      ]
     },
     "execution_count": 22,
     "metadata": {},
     "output_type": "execute_result"
    }
   ],
   "source": [
    "kronecker_product(H,y,H,z)*(θ*kronecker_product(zero,zero,zero,zero)+α*kronecker_product(one,one,one,one))"
   ]
  },
  {
   "cell_type": "markdown",
   "id": "9b489000-12ed-4143-a936-ad4d05a8af1c",
   "metadata": {},
   "source": [
    "#### The sympy quantum module\n",
    "\n",
    "The sympy quantum library provides shortcuts to the above operations using an implementation based on the bra-ket notation (so that the matrix products are only done when necessary) and the rest of the time it implements the transformations like we would do in pen and paper, In order to construct a state in this framework we use the computational basis, particularly we use their Qubit function\n",
    "\n"
   ]
  },
  {
   "cell_type": "code",
   "execution_count": 23,
   "id": "eab2cc03-517c-4b36-a6c7-feeb57363053",
   "metadata": {},
   "outputs": [
    {
     "data": {
      "text/latex": [
       "$\\displaystyle {\\left|0\\right\\rangle }$"
      ],
      "text/plain": [
       "|0>"
      ]
     },
     "execution_count": 23,
     "metadata": {},
     "output_type": "execute_result"
    }
   ],
   "source": [
    "Qubit('0')"
   ]
  },
  {
   "cell_type": "markdown",
   "id": "09cc02b0-285a-4799-8fbe-505bf9451536",
   "metadata": {},
   "source": [
    "We can convert the ket notation to the matrix one by using represent"
   ]
  },
  {
   "cell_type": "code",
   "execution_count": 24,
   "id": "43673146-1e5b-493a-ae74-6f62b680d273",
   "metadata": {},
   "outputs": [
    {
     "data": {
      "text/latex": [
       "$\\displaystyle \\left[\\begin{matrix}1\\\\0\\end{matrix}\\right]$"
      ],
      "text/plain": [
       "Matrix([\n",
       "[1],\n",
       "[0]])"
      ]
     },
     "execution_count": 24,
     "metadata": {},
     "output_type": "execute_result"
    }
   ],
   "source": [
    "represent(Qubit('0'))"
   ]
  },
  {
   "cell_type": "markdown",
   "id": "cfa9cf4a-2198-4297-aee9-44804f0193bf",
   "metadata": {},
   "source": [
    "Conversely we can go from vector notation to bra-ket notation using the matrix_to_qubit function "
   ]
  },
  {
   "cell_type": "code",
   "execution_count": 25,
   "id": "91fbc10a-1e74-4743-b5a0-8640c1369ec9",
   "metadata": {},
   "outputs": [
    {
     "data": {
      "text/latex": [
       "$\\displaystyle \\left[\\begin{matrix}\\alpha\\\\\\beta\\end{matrix}\\right]$"
      ],
      "text/plain": [
       "Matrix([\n",
       "[alpha],\n",
       "[ beta]])"
      ]
     },
     "execution_count": 25,
     "metadata": {},
     "output_type": "execute_result"
    }
   ],
   "source": [
    "Ψ"
   ]
  },
  {
   "cell_type": "code",
   "execution_count": 26,
   "id": "76cbea1a-16f8-49e8-8cc4-9b525a0ef95f",
   "metadata": {},
   "outputs": [
    {
     "data": {
      "text/latex": [
       "$\\displaystyle \\alpha {\\left|0\\right\\rangle } + \\beta {\\left|1\\right\\rangle }$"
      ],
      "text/plain": [
       "alpha*|0> + beta*|1>"
      ]
     },
     "execution_count": 26,
     "metadata": {},
     "output_type": "execute_result"
    }
   ],
   "source": [
    "matrix_to_qubit(Ψ)"
   ]
  },
  {
   "cell_type": "markdown",
   "id": "c675ac60-31c5-47c9-951b-b5ea8886cb78",
   "metadata": {},
   "source": [
    "Most common Operators and gates are predefined in the sympy quantum module, for example the pauli matrices are under the names X,Y,Z respectively. The CNOT gate is under CNOT, and the Hadamard under HadamardGate, in this module the quatum gates require an input, that input is the qubit they act on, qubits are counted from right to left and the counting starts at 0 for example to write the operator X acting on the first qubit we have:\n",
    "\n",
    "$(\\mathcal{I} \\otimes X )| 00 \\rangle=X_0 | 00 \\rangle = | 01 \\rangle$\n"
   ]
  },
  {
   "cell_type": "code",
   "execution_count": 27,
   "id": "4bf5d100-2a78-4b62-96d1-cd11a2c9af14",
   "metadata": {},
   "outputs": [
    {
     "data": {
      "text/latex": [
       "$\\displaystyle X_{0} {\\left|10\\right\\rangle }$"
      ],
      "text/plain": [
       "X(0)*|10>"
      ]
     },
     "execution_count": 27,
     "metadata": {},
     "output_type": "execute_result"
    }
   ],
   "source": [
    "X(0)*Qubit('10')"
   ]
  },
  {
   "cell_type": "markdown",
   "id": "1bba0b8f-3c90-4148-90e0-e11f93ea5e28",
   "metadata": {},
   "source": [
    "Of course just printing the input in a nice notation is not actually useful, we want to get to the result of the computation, to do that we simply wrap our operations into the qapply function "
   ]
  },
  {
   "cell_type": "code",
   "execution_count": 28,
   "id": "c29628f4-b355-4031-97ae-23adc1d81441",
   "metadata": {},
   "outputs": [
    {
     "data": {
      "text/latex": [
       "$\\displaystyle {\\left|01\\right\\rangle }$"
      ],
      "text/plain": [
       "|01>"
      ]
     },
     "execution_count": 28,
     "metadata": {},
     "output_type": "execute_result"
    }
   ],
   "source": [
    "qapply(X(0)*Qubit('00'))"
   ]
  },
  {
   "cell_type": "markdown",
   "id": "17734aea-086b-48b5-af34-4d14ac4ac54b",
   "metadata": {},
   "source": [
    "*Task 5* was a little painful in matrix notation, we probably would have achievethe answer using paper and pen faster, however using bracket notation is a single line, that is quite readable, again the idea was to compute\n",
    "\n",
    "$H \\otimes Y \\otimes H \\otimes Z (\\theta |0000\\rangle +\\alpha |1111\\rangle )$ "
   ]
  },
  {
   "cell_type": "code",
   "execution_count": 29,
   "id": "d9532a36-782d-4ac9-a921-bbee2a49b9a3",
   "metadata": {},
   "outputs": [
    {
     "data": {
      "text/latex": [
       "$\\displaystyle \\alpha {\\left|1111\\right\\rangle } + \\theta {\\left|0000\\right\\rangle }$"
      ],
      "text/plain": [
       "alpha*|1111> + theta*|0000>"
      ]
     },
     "execution_count": 29,
     "metadata": {},
     "output_type": "execute_result"
    }
   ],
   "source": [
    "state=θ*Qubit('0000')+α*Qubit('1111') #We first defined the superposition on which the gates will be applied\n",
    "state"
   ]
  },
  {
   "cell_type": "code",
   "execution_count": 30,
   "id": "11506b9a-65c9-412b-9a43-4be90dc04e1c",
   "metadata": {},
   "outputs": [
    {
     "data": {
      "text/latex": [
       "$\\displaystyle H_{3} Y_{2} H_{1} Z_{0} \\left(\\alpha {\\left|1111\\right\\rangle } + \\theta {\\left|0000\\right\\rangle }\\right)$"
      ],
      "text/plain": [
       "H(3)*Y(2)*H(1)*Z(0)*(alpha*|1111> + theta*|0000>)"
      ]
     },
     "execution_count": 30,
     "metadata": {},
     "output_type": "execute_result"
    }
   ],
   "source": [
    "state=(HadamardGate(3)*Y(2)*HadamardGate(1)*Z(0))*state # We act the operators on the state\n",
    "state"
   ]
  },
  {
   "cell_type": "code",
   "execution_count": 31,
   "id": "fc515f0e-4578-4aed-a812-57cc2cb31f00",
   "metadata": {},
   "outputs": [
    {
     "data": {
      "text/latex": [
       "$\\displaystyle \\frac{i \\alpha {\\left|0001\\right\\rangle }}{2} - \\frac{i \\alpha {\\left|0011\\right\\rangle }}{2} - \\frac{i \\alpha {\\left|1001\\right\\rangle }}{2} + \\frac{i \\alpha {\\left|1011\\right\\rangle }}{2} + \\frac{i \\theta {\\left|0100\\right\\rangle }}{2} + \\frac{i \\theta {\\left|0110\\right\\rangle }}{2} + \\frac{i \\theta {\\left|1100\\right\\rangle }}{2} + \\frac{i \\theta {\\left|1110\\right\\rangle }}{2}$"
      ],
      "text/plain": [
       "I*alpha*|0001>/2 - I*alpha*|0011>/2 - I*alpha*|1001>/2 + I*alpha*|1011>/2 + I*theta*|0100>/2 + I*theta*|0110>/2 + I*theta*|1100>/2 + I*theta*|1110>/2"
      ]
     },
     "execution_count": 31,
     "metadata": {},
     "output_type": "execute_result"
    }
   ],
   "source": [
    "qapply(state) # We get the result of the computation"
   ]
  },
  {
   "cell_type": "markdown",
   "id": "04214e46-966c-43e6-91e8-c5eabd6523a7",
   "metadata": {},
   "source": [
    "We broke it down as a review however it could as well be done on a single line "
   ]
  },
  {
   "cell_type": "code",
   "execution_count": 32,
   "id": "06776181-2819-4f2b-b59c-191de83b4718",
   "metadata": {},
   "outputs": [
    {
     "data": {
      "text/latex": [
       "$\\displaystyle \\frac{i \\alpha {\\left|0001\\right\\rangle }}{2} - \\frac{i \\alpha {\\left|0011\\right\\rangle }}{2} - \\frac{i \\alpha {\\left|1001\\right\\rangle }}{2} + \\frac{i \\alpha {\\left|1011\\right\\rangle }}{2} + \\frac{i \\theta {\\left|0100\\right\\rangle }}{2} + \\frac{i \\theta {\\left|0110\\right\\rangle }}{2} + \\frac{i \\theta {\\left|1100\\right\\rangle }}{2} + \\frac{i \\theta {\\left|1110\\right\\rangle }}{2}$"
      ],
      "text/plain": [
       "I*alpha*|0001>/2 - I*alpha*|0011>/2 - I*alpha*|1001>/2 + I*alpha*|1011>/2 + I*theta*|0100>/2 + I*theta*|0110>/2 + I*theta*|1100>/2 + I*theta*|1110>/2"
      ]
     },
     "execution_count": 32,
     "metadata": {},
     "output_type": "execute_result"
    }
   ],
   "source": [
    "qapply((HadamardGate(3)*Y(2)*HadamardGate(1)*Z(0))*(θ*Qubit('0000')+α*Qubit('1111')))"
   ]
  },
  {
   "cell_type": "markdown",
   "id": "e5349c5f-524f-4b7f-ab9b-b7552ca4ead6",
   "metadata": {},
   "source": [
    "**Task 6** Compute the following state\n",
    "\n",
    "$(H_{3}H_{2}H_{1}H_{0})(X_{3}Z_{2}X_{1}Z_{0})(H_{3}H_{2}H_{1}H_{0})(\\theta |1010\\rangle + \\alpha |1011\\rangle )$\n",
    "\n",
    "What is the probability of measuring the state $|1111 \\rangle$?"
   ]
  },
  {
   "cell_type": "code",
   "execution_count": 33,
   "id": "dcbf6cf6-0f96-424d-ad23-18bfeb4f51f5",
   "metadata": {},
   "outputs": [
    {
     "data": {
      "text/latex": [
       "$\\displaystyle \\alpha {\\left|1110\\right\\rangle } + \\theta {\\left|1111\\right\\rangle }$"
      ],
      "text/plain": [
       "alpha*|1110> + theta*|1111>"
      ]
     },
     "execution_count": 33,
     "metadata": {},
     "output_type": "execute_result"
    }
   ],
   "source": [
    "# Task 6\n",
    "state2d = θ*Qubit('1010') + α*Qubit('1011')\n",
    "a = HadamardGate(3)*HadamardGate(2)*HadamardGate(1)*HadamardGate(0)\n",
    "b = X(3)*Z(2)*X(1)*Z(0)\n",
    "qapply(a*b*a*state2d)"
   ]
  },
  {
   "cell_type": "code",
   "execution_count": 34,
   "id": "aa4ec8a8",
   "metadata": {},
   "outputs": [
    {
     "data": {
      "text/latex": [
       "$\\displaystyle \\left[\\begin{matrix}0\\\\0\\\\0\\\\0\\\\0\\\\0\\\\0\\\\0\\\\0\\\\0\\\\0\\\\0\\\\0\\\\0\\\\\\alpha\\\\\\theta\\end{matrix}\\right]$"
      ],
      "text/plain": [
       "Matrix([\n",
       "[    0],\n",
       "[    0],\n",
       "[    0],\n",
       "[    0],\n",
       "[    0],\n",
       "[    0],\n",
       "[    0],\n",
       "[    0],\n",
       "[    0],\n",
       "[    0],\n",
       "[    0],\n",
       "[    0],\n",
       "[    0],\n",
       "[    0],\n",
       "[alpha],\n",
       "[theta]])"
      ]
     },
     "execution_count": 34,
     "metadata": {},
     "output_type": "execute_result"
    }
   ],
   "source": [
    "V1=represent(qapply(a*b*a*state2d))\n",
    "V2=conjugate(V1).T\n",
    "V3=conjugate(represent(θ*Qubit('1111'))).T\n",
    "S1 = V3*V1\n",
    "S2 = V2*V1\n",
    "#S1[0]/S2[0]\n",
    "V1"
   ]
  },
  {
   "cell_type": "markdown",
   "id": "2e3fec72-89ea-4fef-b017-49e344ff9cac",
   "metadata": {},
   "source": [
    "In this sintax inner and outer products can be computed $| 00 \\rangle= | 0 \\rangle \\otimes | 0 \\rangle$ howeverthis a particular weark point of this open source library to the best of my knowledge since it requires a a little more coding than it should, to see why let us code this step by step, First let us get the tensor product of $|0\\rangle$ with itself"
   ]
  },
  {
   "cell_type": "code",
   "execution_count": 35,
   "id": "f543a81f-ee8c-45fe-91c8-bf528ffc52a7",
   "metadata": {},
   "outputs": [
    {
     "data": {
      "text/latex": [
       "$\\displaystyle {{\\left|0\\right\\rangle }}\\otimes {{\\left|0\\right\\rangle }}$"
      ],
      "text/plain": [
       "|0>x|0>"
      ]
     },
     "execution_count": 35,
     "metadata": {},
     "output_type": "execute_result"
    }
   ],
   "source": [
    "TensorProduct(Qubit('0'),Qubit('0'))"
   ]
  },
  {
   "cell_type": "markdown",
   "id": "6aeee03c-8d0d-4498-962b-d9dfee84e5b7",
   "metadata": {},
   "source": [
    "This is not terribly useful because this is different from $|00\\rangle$ for the computer, to get one into the other we simply transform the tensor product to vector notation and come back to bra-ket"
   ]
  },
  {
   "cell_type": "code",
   "execution_count": 36,
   "id": "593d6ce5-bcc6-438f-971c-a1a0cc905944",
   "metadata": {},
   "outputs": [
    {
     "data": {
      "text/plain": [
       "False"
      ]
     },
     "execution_count": 36,
     "metadata": {},
     "output_type": "execute_result"
    }
   ],
   "source": [
    "TensorProduct(Qubit('0'),Qubit('0'))==Qubit('00') # Crude tensor product"
   ]
  },
  {
   "cell_type": "code",
   "execution_count": 37,
   "id": "e361e8da-56e2-42ae-8ee7-ef8ad33b3e60",
   "metadata": {},
   "outputs": [
    {
     "data": {
      "text/plain": [
       "True"
      ]
     },
     "execution_count": 37,
     "metadata": {},
     "output_type": "execute_result"
    }
   ],
   "source": [
    "matrix_to_qubit(represent(TensorProduct(Qubit('0'),Qubit('0'))))==Qubit('00') # going into vector notation and coming back"
   ]
  },
  {
   "cell_type": "markdown",
   "id": "3c6b13a4-915f-4e13-9b4d-289ff44e6ba5",
   "metadata": {},
   "source": [
    "The inner product on the other hand comes quite naturally we just do a normal product and then use the qapply function, for example\n",
    "having $|\\alpha \\rangle = \\theta |0 \\rangle + \\beta |1 \\rangle$ we can quickly find $\\langle \\alpha| \\alpha \\rangle$\n"
   ]
  },
  {
   "cell_type": "code",
   "execution_count": 38,
   "id": "1472dc53-09fb-472b-887f-48672d6a8866",
   "metadata": {},
   "outputs": [
    {
     "data": {
      "text/latex": [
       "$\\displaystyle \\beta {\\left|1\\right\\rangle } + \\theta {\\left|0\\right\\rangle }$"
      ],
      "text/plain": [
       "beta*|1> + theta*|0>"
      ]
     },
     "execution_count": 38,
     "metadata": {},
     "output_type": "execute_result"
    }
   ],
   "source": [
    "alpha=θ*Qubit('0')+β*Qubit('1')\n",
    "alpha"
   ]
  },
  {
   "cell_type": "code",
   "execution_count": 39,
   "id": "9de7bd5b-109e-443a-b906-1deff8f99ef7",
   "metadata": {},
   "outputs": [
    {
     "data": {
      "text/latex": [
       "$\\displaystyle \\beta \\beta^{\\dagger} + \\theta \\theta^{\\dagger}$"
      ],
      "text/plain": [
       "beta*Dagger(beta) + theta*Dagger(theta)"
      ]
     },
     "execution_count": 39,
     "metadata": {},
     "output_type": "execute_result"
    }
   ],
   "source": [
    "qapply((Dagger(alpha)*alpha))"
   ]
  },
  {
   "cell_type": "markdown",
   "id": "468a6408-def7-47c2-bcf2-13325d380831",
   "metadata": {},
   "source": [
    "Unfortunately Sympy doesn't know wheter our symbols are matrices or numbers or something else, so it keeps the dagger instead of using the bar for conjugate, however as long as you know what you are computing this should not be an issue.\n",
    "\n",
    "Let us finish this part with a final task\n",
    "\n",
    "**Task 7**\n",
    "\n",
    "Compute the inner product of the result of task 6 with itself, what does it need to fulfill to be an adequate quantum state?"
   ]
  },
  {
   "cell_type": "code",
   "execution_count": 41,
   "id": "635d6cf1",
   "metadata": {},
   "outputs": [
    {
     "data": {
      "text/latex": [
       "$\\displaystyle \\alpha \\alpha^{\\dagger} + \\theta \\theta^{\\dagger}$"
      ],
      "text/plain": [
       "alpha*Dagger(alpha) + theta*Dagger(theta)"
      ]
     },
     "execution_count": 41,
     "metadata": {},
     "output_type": "execute_result"
    }
   ],
   "source": [
    "qapply(Dagger(a*b*a*state2d)*(a*b*a*state2d))"
   ]
  }
 ],
 "metadata": {
  "kernelspec": {
   "display_name": "Python 3 (ipykernel)",
   "language": "python",
   "name": "python3"
  },
  "language_info": {
   "codemirror_mode": {
    "name": "ipython",
    "version": 3
   },
   "file_extension": ".py",
   "mimetype": "text/x-python",
   "name": "python",
   "nbconvert_exporter": "python",
   "pygments_lexer": "ipython3",
   "version": "3.9.7"
  }
 },
 "nbformat": 4,
 "nbformat_minor": 5
}
