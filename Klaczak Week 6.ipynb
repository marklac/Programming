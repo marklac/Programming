{
 "cells": [
  {
   "cell_type": "markdown",
   "id": "6e20e94e-6737-48fa-bcb7-20542a1c1961",
   "metadata": {},
   "source": [
    "# Classes and objects"
   ]
  },
  {
   "cell_type": "code",
   "execution_count": 5,
   "id": "0a4c95cf-e134-4366-ab98-75b17dab57a9",
   "metadata": {},
   "outputs": [],
   "source": [
    "class animals:\n",
    "    def __init__(self,type,beatiful):\n",
    "        self.type=type\n",
    "        if type==\"friendly\":\n",
    "            print('pet animal')\n",
    "        else :\n",
    "            print('wild')\n",
    "        self.beatiful=beatiful\n",
    "        if beatiful==\"fur\":\n",
    "            print('cute')\n",
    "        else:\n",
    "            print('not cute')\n",
    "    def friend(self):\n",
    "        if self.type=='friendly':\n",
    "            print('it does not bite')\n",
    "        else:\n",
    "            print('it bites')\n",
    "    def hit(self):\n",
    "        self.type='mad'\n",
    "    def feed(self):\n",
    "        self.type='friendly'"
   ]
  },
  {
   "cell_type": "code",
   "execution_count": 6,
   "id": "2dc3e702-0745-4aa7-806a-f43a2330e309",
   "metadata": {},
   "outputs": [
    {
     "name": "stdout",
     "output_type": "stream",
     "text": [
      "pet animal\n",
      "not cute\n"
     ]
    }
   ],
   "source": [
    "animals_dog=animals('friendly',4)"
   ]
  },
  {
   "cell_type": "code",
   "execution_count": 7,
   "id": "c1d8929c-2260-40a1-badd-ca8656862212",
   "metadata": {},
   "outputs": [
    {
     "name": "stdout",
     "output_type": "stream",
     "text": [
      "it does not bite\n"
     ]
    }
   ],
   "source": [
    "animals_dog.friend()"
   ]
  },
  {
   "cell_type": "code",
   "execution_count": 8,
   "id": "6c2e0ed2-d7e4-4700-be96-dfd3591a68ed",
   "metadata": {},
   "outputs": [
    {
     "name": "stdout",
     "output_type": "stream",
     "text": [
      "it does not bite\n"
     ]
    }
   ],
   "source": [
    "animals_dog.friend()"
   ]
  },
  {
   "cell_type": "code",
   "execution_count": 9,
   "id": "1081cad7-5b89-4787-a3e0-69fcbaa82962",
   "metadata": {},
   "outputs": [],
   "source": [
    "animals_dog.feed()"
   ]
  },
  {
   "cell_type": "code",
   "execution_count": 10,
   "id": "8dcbc000-726b-47b8-b132-4c24fad42fa5",
   "metadata": {},
   "outputs": [],
   "source": [
    "animals_dog.hit()"
   ]
  },
  {
   "cell_type": "code",
   "execution_count": 11,
   "id": "4ccf5cfd-e606-45c4-b12c-3f4bb1bf86b9",
   "metadata": {},
   "outputs": [
    {
     "name": "stdout",
     "output_type": "stream",
     "text": [
      "it bites\n"
     ]
    }
   ],
   "source": [
    "animals_dog.friend()"
   ]
  },
  {
   "cell_type": "code",
   "execution_count": 12,
   "id": "9a86ec17-0cac-455d-a6af-7b14ce7780f7",
   "metadata": {},
   "outputs": [],
   "source": [
    "animals_dog.type='wild'"
   ]
  },
  {
   "cell_type": "code",
   "execution_count": 13,
   "id": "695f1b80-16ce-45b6-a327-6e09240db32e",
   "metadata": {},
   "outputs": [
    {
     "data": {
      "text/plain": [
       "'wild'"
      ]
     },
     "execution_count": 13,
     "metadata": {},
     "output_type": "execute_result"
    }
   ],
   "source": [
    "animals_dog.type"
   ]
  },
  {
   "cell_type": "code",
   "execution_count": 14,
   "id": "548219f6-87ad-42e1-9ca0-899d79bb234f",
   "metadata": {},
   "outputs": [],
   "source": [
    "from sympy import *\n",
    "from sympy.physics.quantum.qubit import Qubit,matrix_to_qubit,represent,matrix_to_density\n",
    "from sympy.physics.quantum import TensorProduct,Dagger"
   ]
  },
  {
   "cell_type": "code",
   "execution_count": 15,
   "id": "aed45af0-dbeb-4f5b-9fa7-b82eb3405a25",
   "metadata": {},
   "outputs": [],
   "source": [
    "class qubit:\n",
    "    \"\"\"\n",
    "    We will do some qubit operations:\n",
    "    \"\"\"\n",
    "    def __init__(self,matrix):\n",
    "        self.hermitian= (matrix == Dagger(matrix))\n",
    "        self.valid_trace=(matrix.trace()>=0)\n",
    "        self.state=matrix\n",
    "        self.eigenvalues=matrix.eigenvals()\n",
    "        if not self.hermitian:\n",
    "            print(\"This is not a valid qubit, hermiticity\")\n",
    "        if not self.valid_trace:\n",
    "            print(\"It is not a valid qubit,trace\")\n",
    "    def transformation(self):\n",
    "        λ=symbols('λ', real=True)\n",
    "        E0=Matrix([[1,0],[0,sqrt(1-λ)]])\n",
    "        E1=Matrix([[0,sqrt(λ)],[0,0]])\n",
    "        if self.valid_trace:\n",
    "            var1=E0*self.state*Dagger(E0)+E1*self.state*Dagger(E1)\n",
    "            self.state=var1.subs({conjugate(sqrt(λ)):sqrt(λ),conjugate(sqrt(1-λ)):sqrt(1-λ)}).expand()\n",
    "        return self.state\n",
    "    def purity_calc(self):\n",
    "        self.purity=((self.state)**2).trace()\n",
    "        return self.purity\n",
    "    def eigencheck(self):\n",
    "        var1=list(self.state.eigenvals().keys())\n",
    "        dummy=0\n",
    "        for i in var1:\n",
    "            dummy+=i\n",
    "            if not 0<i<1: \n",
    "                print('Not Valid')\n",
    "            else:\n",
    "                print('Valid')"
   ]
  },
  {
   "cell_type": "code",
   "execution_count": 16,
   "id": "e46474cc-258f-4324-8731-423f8981612d",
   "metadata": {},
   "outputs": [
    {
     "data": {
      "text/latex": [
       "$\\displaystyle \\left[\\begin{matrix}0.7 & 0\\\\0 & 0.3\\end{matrix}\\right]$"
      ],
      "text/plain": [
       "Matrix([\n",
       "[0.7,   0],\n",
       "[  0, 0.3]])"
      ]
     },
     "execution_count": 16,
     "metadata": {},
     "output_type": "execute_result"
    }
   ],
   "source": [
    "A=Matrix([[1-.3,0],[0,0.3]])\n",
    "A"
   ]
  },
  {
   "cell_type": "code",
   "execution_count": 17,
   "id": "90cd02ec-1f41-4d0c-bdfb-f38e4f79596a",
   "metadata": {},
   "outputs": [],
   "source": [
    "qubit1=qubit(A)"
   ]
  },
  {
   "cell_type": "code",
   "execution_count": 18,
   "id": "0ddb4d9d-3747-4d25-911f-cd3bdfc9d54e",
   "metadata": {},
   "outputs": [
    {
     "data": {
      "text/latex": [
       "$\\displaystyle 0.58$"
      ],
      "text/plain": [
       "0.580000000000000"
      ]
     },
     "execution_count": 18,
     "metadata": {},
     "output_type": "execute_result"
    }
   ],
   "source": [
    "qubit1.purity_calc()"
   ]
  },
  {
   "cell_type": "code",
   "execution_count": 19,
   "id": "07ceae20-6ef9-481b-a687-516f55c56bdf",
   "metadata": {},
   "outputs": [
    {
     "data": {
      "text/latex": [
       "$\\displaystyle 0.58$"
      ],
      "text/plain": [
       "0.580000000000000"
      ]
     },
     "execution_count": 19,
     "metadata": {},
     "output_type": "execute_result"
    }
   ],
   "source": [
    "qubit1.purity"
   ]
  },
  {
   "cell_type": "code",
   "execution_count": 20,
   "id": "c11adb76-f96a-40fd-b5de-faadef8d2c9f",
   "metadata": {},
   "outputs": [
    {
     "data": {
      "text/latex": [
       "$\\displaystyle \\left[\\begin{matrix}0.7 & 0\\\\0 & 0.3\\end{matrix}\\right]$"
      ],
      "text/plain": [
       "Matrix([\n",
       "[0.7,   0],\n",
       "[  0, 0.3]])"
      ]
     },
     "execution_count": 20,
     "metadata": {},
     "output_type": "execute_result"
    }
   ],
   "source": [
    "qubit1.state"
   ]
  },
  {
   "cell_type": "code",
   "execution_count": 21,
   "id": "73a6f95a-ddc0-4f53-bcb7-006feab45e2f",
   "metadata": {},
   "outputs": [
    {
     "name": "stdout",
     "output_type": "stream",
     "text": [
      "Valid\n",
      "Valid\n"
     ]
    }
   ],
   "source": [
    "qubit1.eigencheck()"
   ]
  },
  {
   "cell_type": "code",
   "execution_count": 22,
   "id": "b17d0279-f6a4-444b-afb4-e3bb1b45f2c4",
   "metadata": {},
   "outputs": [
    {
     "data": {
      "text/latex": [
       "$\\displaystyle \\left[\\begin{matrix}0.3 λ + 0.7 & 0\\\\0 & 0.3 - 0.3 λ\\end{matrix}\\right]$"
      ],
      "text/plain": [
       "Matrix([\n",
       "[0.3*λ + 0.7,           0],\n",
       "[          0, 0.3 - 0.3*λ]])"
      ]
     },
     "execution_count": 22,
     "metadata": {},
     "output_type": "execute_result"
    }
   ],
   "source": [
    "qubit1.transformation()"
   ]
  },
  {
   "cell_type": "code",
   "execution_count": 23,
   "id": "8ea10f40-2d7d-4345-9679-6a896881dd5b",
   "metadata": {},
   "outputs": [
    {
     "data": {
      "text/plain": [
       "True"
      ]
     },
     "execution_count": 23,
     "metadata": {},
     "output_type": "execute_result"
    }
   ],
   "source": [
    "qubit1.hermitian"
   ]
  },
  {
   "cell_type": "markdown",
   "id": "c6884fb7-f7c7-41f0-ac06-882289b611e2",
   "metadata": {},
   "source": [
    "**Task**: To implement a class of bosonic operators, meaning that you implement $[a_{i},a^{\\dagger}_{j}]=\\delta_{ij}$ and also that you order alphatetically (put all $a^{\\dagger}s$ before as as well)"
   ]
  },
  {
   "cell_type": "code",
   "execution_count": 39,
   "id": "d855003c",
   "metadata": {},
   "outputs": [],
   "source": [
    "class bosonic_operator:\n",
    "    def creation(q,p):\n",
    "        a = 1/2**(1/2)*(q + I*p)    \n",
    "        return a\n",
    "    def annihilation(q,p):\n",
    "        ad = 1/2**(1/2)*(q - I*p)\n",
    "        return ad"
   ]
  },
  {
   "cell_type": "code",
   "execution_count": 40,
   "id": "5acb490f",
   "metadata": {},
   "outputs": [
    {
     "data": {
      "text/latex": [
       "$\\displaystyle 14.1421356237309 + 1.41421356237309 i$"
      ],
      "text/plain": [
       "14.1421356237309 + 1.41421356237309*I"
      ]
     },
     "execution_count": 40,
     "metadata": {},
     "output_type": "execute_result"
    }
   ],
   "source": [
    "bosonic_operator.creation(20,2)"
   ]
  },
  {
   "cell_type": "code",
   "execution_count": 41,
   "id": "facc6850",
   "metadata": {},
   "outputs": [
    {
     "data": {
      "text/latex": [
       "$\\displaystyle 14.1421356237309 - 1.41421356237309 i$"
      ],
      "text/plain": [
       "14.1421356237309 - 1.41421356237309*I"
      ]
     },
     "execution_count": 41,
     "metadata": {},
     "output_type": "execute_result"
    }
   ],
   "source": [
    "bosonic_operator.annihilation(20,2)"
   ]
  }
 ],
 "metadata": {
  "kernelspec": {
   "display_name": "Python 3 (ipykernel)",
   "language": "python",
   "name": "python3"
  },
  "language_info": {
   "codemirror_mode": {
    "name": "ipython",
    "version": 3
   },
   "file_extension": ".py",
   "mimetype": "text/x-python",
   "name": "python",
   "nbconvert_exporter": "python",
   "pygments_lexer": "ipython3",
   "version": "3.9.7"
  }
 },
 "nbformat": 4,
 "nbformat_minor": 5
}
