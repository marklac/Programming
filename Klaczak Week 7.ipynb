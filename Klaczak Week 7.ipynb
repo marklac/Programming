{
 "cells": [
  {
   "cell_type": "markdown",
   "id": "e0f37425-f3b5-47fa-9d3f-253e6ecc80c5",
   "metadata": {},
   "source": [
    "# Refresher on classes\n",
    "\n",
    "Create a calculator class"
   ]
  },
  {
   "cell_type": "code",
   "execution_count": 1,
   "id": "7fb69bfb-5e66-4d6d-a361-bba3ae500e10",
   "metadata": {},
   "outputs": [],
   "source": [
    "class calci:\n",
    "    def __init__(self):\n",
    "        self.state=0\n",
    "        print(self.state)\n",
    "    def check(self,n):\n",
    "        if (type(n) in (int,float)) or n.isnumeric():\n",
    "            pass\n",
    "        else:\n",
    "            print('it is not valid input, threortical error,resetting...')\n",
    "            self.reset()\n",
    "            return True\n",
    "    def reset(self):\n",
    "        self.state=0\n",
    "        return self.state\n",
    "    def add(self,n):\n",
    "        if self.check(n):\n",
    "            self.reset()\n",
    "            return self.state\n",
    "        self.state=self.state+n\n",
    "        return self.state\n",
    "    def sub(self,n):\n",
    "        if self.check(n):\n",
    "            self.reset()\n",
    "            return self.state\n",
    "        self.state=self.state-n\n",
    "        return self.state\n",
    "    def mul(self,n):\n",
    "        if self.check(n):\n",
    "            self.reset()\n",
    "            return self.state\n",
    "        self.state=self.state*n\n",
    "        return self.state\n",
    "    def div(self,n):\n",
    "        if self.check(n):\n",
    "            self.reset()\n",
    "            return self.state\n",
    "        if n==0:\n",
    "            print('Error')\n",
    "            return self.state\n",
    "        self.state=self.state/n\n",
    "        return self.state\n",
    "        "
   ]
  },
  {
   "cell_type": "code",
   "execution_count": 2,
   "id": "47503474-ff03-4340-9f74-aa768d451a8b",
   "metadata": {},
   "outputs": [
    {
     "name": "stdout",
     "output_type": "stream",
     "text": [
      "0\n"
     ]
    }
   ],
   "source": [
    "calculator=calci()"
   ]
  },
  {
   "cell_type": "code",
   "execution_count": 3,
   "id": "6cbd6fac-907d-4af8-a1e6-d7ce7346b588",
   "metadata": {},
   "outputs": [
    {
     "name": "stdout",
     "output_type": "stream",
     "text": [
      "it is not valid input, threortical error,resetting...\n"
     ]
    },
    {
     "data": {
      "text/plain": [
       "0"
      ]
     },
     "execution_count": 3,
     "metadata": {},
     "output_type": "execute_result"
    }
   ],
   "source": [
    "calculator.add('l')"
   ]
  },
  {
   "cell_type": "code",
   "execution_count": 4,
   "id": "6c7e7f21-a879-46a3-beee-f775a5f5957b",
   "metadata": {},
   "outputs": [
    {
     "name": "stdout",
     "output_type": "stream",
     "text": [
      "it is not valid input, threortical error,resetting...\n"
     ]
    },
    {
     "data": {
      "text/plain": [
       "0"
      ]
     },
     "execution_count": 4,
     "metadata": {},
     "output_type": "execute_result"
    }
   ],
   "source": [
    "calculator.mul('h')"
   ]
  },
  {
   "cell_type": "code",
   "execution_count": 5,
   "id": "154caeec-e59a-468a-abd6-8eab58985e2c",
   "metadata": {},
   "outputs": [
    {
     "name": "stdout",
     "output_type": "stream",
     "text": [
      "it is not valid input, threortical error,resetting...\n"
     ]
    },
    {
     "data": {
      "text/plain": [
       "0"
      ]
     },
     "execution_count": 5,
     "metadata": {},
     "output_type": "execute_result"
    }
   ],
   "source": [
    "calculator.mul('k')"
   ]
  },
  {
   "cell_type": "code",
   "execution_count": 6,
   "id": "8c7f6157-7bd0-4d31-8f9a-e78b1af56095",
   "metadata": {},
   "outputs": [
    {
     "data": {
      "text/plain": [
       "str"
      ]
     },
     "execution_count": 6,
     "metadata": {},
     "output_type": "execute_result"
    }
   ],
   "source": [
    "type('k')"
   ]
  },
  {
   "cell_type": "code",
   "execution_count": 7,
   "id": "834a3747-3de7-4cc5-ab22-66eeb4bc25d9",
   "metadata": {},
   "outputs": [
    {
     "data": {
      "text/plain": [
       "float"
      ]
     },
     "execution_count": 7,
     "metadata": {},
     "output_type": "execute_result"
    }
   ],
   "source": [
    "type(1.22)"
   ]
  },
  {
   "cell_type": "code",
   "execution_count": 8,
   "id": "a8e3279d-8238-43e4-b40e-7404b2f6ece3",
   "metadata": {},
   "outputs": [
    {
     "data": {
      "text/plain": [
       "int"
      ]
     },
     "execution_count": 8,
     "metadata": {},
     "output_type": "execute_result"
    }
   ],
   "source": [
    "type(3)"
   ]
  },
  {
   "cell_type": "markdown",
   "id": "ce49641c-6469-4c18-b147-6eed101990bc",
   "metadata": {},
   "source": [
    "To export this class into other notebooks, you may create a module, all you need to do is copy the class into a plain text file and call it yourmodulename.py\n",
    "\n",
    "**PD**: Though we only created a module for this class you can create a module from a collection of functions as well\n",
    "\n",
    "**Task**: Turn the class  from the previous task into a module"
   ]
  },
  {
   "cell_type": "code",
   "execution_count": 9,
   "id": "642ab481",
   "metadata": {},
   "outputs": [],
   "source": [
    "import boson"
   ]
  },
  {
   "cell_type": "code",
   "execution_count": 10,
   "id": "5d9a781d",
   "metadata": {},
   "outputs": [
    {
     "data": {
      "text/plain": [
       "(0.7071067811865475+1.414213562373095j)"
      ]
     },
     "execution_count": 10,
     "metadata": {},
     "output_type": "execute_result"
    }
   ],
   "source": [
    "boson.bosonic_operator.creation(1,2)"
   ]
  },
  {
   "cell_type": "code",
   "execution_count": 12,
   "id": "caf09847",
   "metadata": {},
   "outputs": [
    {
     "data": {
      "text/plain": [
       "(0.7071067811865475-1.414213562373095j)"
      ]
     },
     "execution_count": 12,
     "metadata": {},
     "output_type": "execute_result"
    }
   ],
   "source": [
    "boson.bosonic_operator.annihilation(1,2)"
   ]
  }
 ],
 "metadata": {
  "kernelspec": {
   "display_name": "Python 3 (ipykernel)",
   "language": "python",
   "name": "python3"
  },
  "language_info": {
   "codemirror_mode": {
    "name": "ipython",
    "version": 3
   },
   "file_extension": ".py",
   "mimetype": "text/x-python",
   "name": "python",
   "nbconvert_exporter": "python",
   "pygments_lexer": "ipython3",
   "version": "3.9.7"
  }
 },
 "nbformat": 4,
 "nbformat_minor": 5
}
