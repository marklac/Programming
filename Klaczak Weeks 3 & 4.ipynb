{
 "cells": [
  {
   "cell_type": "code",
   "execution_count": 3,
   "id": "0898129a-6dac-4b66-a343-6f27c90f94b8",
   "metadata": {},
   "outputs": [],
   "source": [
    "from sympy import *\n",
    "from sympy.physics.quantum import TensorProduct,Dagger\n",
    "from sympy import sqrt\n",
    "from sympy.physics.quantum.qubit import Qubit,matrix_to_qubit,represent,matrix_to_density\n",
    "from sympy.physics.quantum.gate import HadamardGate\n",
    "from sympy.physics.quantum.qapply import qapply\n",
    "from sympy.physics.quantum.gate import CNOT\n",
    "from sympy.physics.quantum.gate import X,Y,Z\n",
    "from sympy.physics.matrices import msigma"
   ]
  },
  {
   "cell_type": "markdown",
   "id": "d7a24256-fa39-4e3a-aab4-4d5e5a86f75f",
   "metadata": {},
   "source": [
    "## Quantum mechanical objects are non-commutative, one may define non-commutative symbols to perform calculations by"
   ]
  },
  {
   "cell_type": "code",
   "execution_count": 4,
   "id": "44687ca6-3f38-4041-91a1-948912b8f2aa",
   "metadata": {},
   "outputs": [],
   "source": [
    "sx,sy,sz=symbols('\\\\sigma_{x} \\\\sigma_{y} \\\\sigma_{z}',commutative=False)"
   ]
  },
  {
   "cell_type": "code",
   "execution_count": 5,
   "id": "557d8d2b-6a4a-4bec-8f2e-e0506ebf8af4",
   "metadata": {},
   "outputs": [
    {
     "data": {
      "text/latex": [
       "$\\displaystyle \\sigma_{x} \\sigma_{y} - \\sigma_{y} \\sigma_{x}$"
      ],
      "text/plain": [
       "\\sigma_{x}*\\sigma_{y} - \\sigma_{y}*\\sigma_{x}"
      ]
     },
     "execution_count": 5,
     "metadata": {},
     "output_type": "execute_result"
    }
   ],
   "source": [
    "sx*sy-sy*sx"
   ]
  },
  {
   "cell_type": "markdown",
   "id": "1156114b-89f4-41e1-81f4-71317ba8cd39",
   "metadata": {
    "jp-MarkdownHeadingCollapsed": true,
    "tags": []
   },
   "source": [
    "Often when we want to perform calculations for some given operators we know the commutation relations, for example  for the pauli matrices we have:\n",
    "\n",
    "$[\\sigma_{i},\\sigma_{j}]=2 i \\epsilon_{ijk}$ \n",
    "\n",
    "where $\\epsilon_{ijk}$ is the Levi-Civita symbol, we may implement those relations by simple substitution since:\n",
    "\n",
    "$\\sigma_{i} \\sigma_{j}= 2 i \\epsilon_{ijk}+ \\sigma_{j} \\sigma_{i}$\n",
    "\n",
    "Let us implement this for $\\sigma_{x},\\sigma_{y}$\n",
    "\n",
    "**PD**: $x=1,y=2,z=3$"
   ]
  },
  {
   "cell_type": "code",
   "execution_count": 6,
   "id": "e9dee446-15a3-4a7f-9559-087fc497fe1f",
   "metadata": {},
   "outputs": [
    {
     "data": {
      "text/latex": [
       "$\\displaystyle 2 i \\sigma_{z}$"
      ],
      "text/plain": [
       "2*I*\\sigma_{z}"
      ]
     },
     "execution_count": 6,
     "metadata": {},
     "output_type": "execute_result"
    }
   ],
   "source": [
    "(sx*sy-sy*sx).subs({sx*sy:2*I*sz+sy*sx}) # Using subs we simply rewrite sx*sy in terms of sy*sx"
   ]
  },
  {
   "cell_type": "markdown",
   "id": "8635b776-76a4-444f-998c-6ed19271198e",
   "metadata": {},
   "source": [
    "**Task**: Make a function that implements all of the commutation relations for pauli matrices, and also uses the fact that $\\sigma_{x}^{2}=\\sigma_{y}^{2}=\\sigma_{z}^{2}=1$, test it by calculating $[\\sigma_{+},[\\sigma_{-},\\sigma_{z}]]$"
   ]
  },
  {
   "cell_type": "code",
   "execution_count": 7,
   "id": "bbe0e4a0",
   "metadata": {},
   "outputs": [],
   "source": [
    "def comm(A,B):\n",
    "    \"\"\"Given two operators A and B returns the commutator AB-BA\"\"\"\n",
    "    return A*B-B*A"
   ]
  },
  {
   "cell_type": "code",
   "execution_count": 10,
   "id": "f9a5a1c2",
   "metadata": {},
   "outputs": [],
   "source": [
    "sp,sm=symbols('\\\\sigma_{+} \\\\sigma_{-}',commutative=False)"
   ]
  },
  {
   "cell_type": "code",
   "execution_count": 146,
   "id": "d178c307",
   "metadata": {},
   "outputs": [],
   "source": [
    "def function1():\n",
    "    z=Matrix([[0, 1], [1, 0]])\n",
    "    x=Matrix([[0, 1], [1, 0]])\n",
    "    y=Matrix([[0, -I], [I, 0]])\n",
    "    com1 = comm(x,y)\n",
    "    com2 = comm(y,z)\n",
    "    com3 = comm(x,z)\n",
    "    sp = (x + I*y)\n",
    "    sm = (x - I*y)\n",
    "    com4 = comm(sm,z)\n",
    "    com5 = comm(sp,com4)\n",
    "    return com5"
   ]
  },
  {
   "cell_type": "code",
   "execution_count": 147,
   "id": "b4073b0a",
   "metadata": {},
   "outputs": [
    {
     "data": {
      "text/latex": [
       "$\\displaystyle \\left[\\begin{matrix}0 & 8\\\\0 & 0\\end{matrix}\\right]$"
      ],
      "text/plain": [
       "Matrix([\n",
       "[0, 8],\n",
       "[0, 0]])"
      ]
     },
     "execution_count": 147,
     "metadata": {},
     "output_type": "execute_result"
    }
   ],
   "source": [
    "function1()"
   ]
  },
  {
   "cell_type": "code",
   "execution_count": 148,
   "id": "657a8d99",
   "metadata": {},
   "outputs": [],
   "source": [
    "def function2():\n",
    "    com1 = comm(sx,sy).subs({sx*sy:2*I*sz+sy*sx})\n",
    "    com2 = comm(sy,sz).subs({sy*sz:2*I*sx+sz*sy})\n",
    "    com3 = comm(sx,sz).subs({sx*sz:2*I*sy+sz*sx})\n",
    "    sp = (sx+I*sy)/2\n",
    "    sm = (sx-I*sy)/2\n",
    "    com4 = comm(sm,sz)\n",
    "    com5 = comm(sp,com4)\n",
    "    solution = expand(com5).subs({sx*sy:I*sz, sx*sz:-I*sy, sy*sz:I*sx, sy*sx:-I*sz, sz*sx:-I*sy, sz*sy:-I*sx})\n",
    "    solution2 = solution.subs({sx*sy:I*sz, sy**2:1, sz**2:1})\n",
    "    return solution2"
   ]
  },
  {
   "cell_type": "code",
   "execution_count": 149,
   "id": "6656e1e0",
   "metadata": {},
   "outputs": [
    {
     "data": {
      "text/latex": [
       "$\\displaystyle \\frac{3 \\sigma_{z}}{2}$"
      ],
      "text/plain": [
       "3*\\sigma_{z}/2"
      ]
     },
     "execution_count": 149,
     "metadata": {},
     "output_type": "execute_result"
    }
   ],
   "source": [
    "function2()"
   ]
  },
  {
   "cell_type": "markdown",
   "id": "9b3af0c3-95f6-4aac-9cf1-a2df581b2fba",
   "metadata": {},
   "source": [
    "## Pauli Algebra already comes in sympy, let us see how the task above can be done using the sympy implementation"
   ]
  },
  {
   "cell_type": "code",
   "execution_count": 37,
   "id": "fe5f2051-9bf5-42cc-b3b4-70038de1de07",
   "metadata": {},
   "outputs": [],
   "source": [
    "from sympy.physics.paulialgebra import Pauli, evaluate_pauli_product"
   ]
  },
  {
   "cell_type": "code",
   "execution_count": 38,
   "id": "0d6bc61b-57c3-4ecd-ba55-69eaf82483e4",
   "metadata": {},
   "outputs": [],
   "source": [
    "smas=(Pauli(1)+I*Pauli(2))/2\n",
    "smenos=(Pauli(1)-I*Pauli(2))/2"
   ]
  },
  {
   "cell_type": "code",
   "execution_count": 39,
   "id": "60ea3bd3-059f-4583-afe7-f40e392f472c",
   "metadata": {},
   "outputs": [],
   "source": [
    "def comm(A,B):\n",
    "    \"\"\"Given two operators A and B returns the commutator AB-BA\"\"\"\n",
    "    return A*B-B*A"
   ]
  },
  {
   "cell_type": "code",
   "execution_count": 40,
   "id": "f48e54c4-82e6-44b8-bb6d-dffbb704c236",
   "metadata": {},
   "outputs": [
    {
     "data": {
      "text/latex": [
       "$\\displaystyle 2 \\sigma_{3}$"
      ],
      "text/plain": [
       "2*sigma3"
      ]
     },
     "execution_count": 40,
     "metadata": {},
     "output_type": "execute_result"
    }
   ],
   "source": [
    "evaluate_pauli_product(comm(smas,comm(smenos,Pauli(3))).expand())"
   ]
  },
  {
   "cell_type": "markdown",
   "id": "a4564cc6-b294-4597-bcb7-f5e0217163e7",
   "metadata": {},
   "source": [
    "Doing non-commutative algebra in the computer is specially useful when you deal with bosonic opeators, which satisfy \n",
    "\n",
    "$[a,a^{\\dagger}]=1$\n",
    "\n",
    "One side remark is that in order for this to be effective one needs to consider that operators from different Hilbert spaces commute if one has:\n",
    "\n",
    "$a b^{\\dagger} a^{\\dagger} b- a^{\\dagger}  b  a b^{\\dagger}$\n",
    "\n",
    "Where both a, and b are bosonic operators, but from different hilber spaces,This is equal to:\n",
    "$a a^{\\dagger}\\otimes b^{\\dagger} b- a^{\\dagger} a\\otimes b b^{\\dagger}$\n",
    "\n",
    "One may implement such ordering by replacing\n",
    "\n",
    "$b a^{\\dagger}=a^{\\dagger} b$\n",
    "\n",
    "and all similar products with a fixed ordering for example alphabetical, let us consider the above example"
   ]
  },
  {
   "cell_type": "code",
   "execution_count": 69,
   "id": "bf63ad94-2e12-4713-a0ad-2814b91a53c7",
   "metadata": {},
   "outputs": [],
   "source": [
    "a,b,rho=symbols('a b rho',commutative=False)\n",
    "ad=Dagger(a)\n",
    "bd=Dagger(b)"
   ]
  },
  {
   "cell_type": "code",
   "execution_count": 42,
   "id": "503616cf-a8e0-4037-a02a-ba962a00ad27",
   "metadata": {},
   "outputs": [
    {
     "data": {
      "text/latex": [
       "$\\displaystyle a a^{\\dagger} b^{\\dagger} b - a^{\\dagger} a b b^{\\dagger}$"
      ],
      "text/plain": [
       "a*Dagger(a)*Dagger(b)*b - Dagger(a)*a*b*Dagger(b)"
      ]
     },
     "execution_count": 42,
     "metadata": {},
     "output_type": "execute_result"
    }
   ],
   "source": [
    "ordered=(a*bd*ad*b-ad*b*a*bd).subs({bd*ad:ad*bd,b*a:a*b}) # we order it so that it is clearly a product of hilbert spaces\n",
    "ordered"
   ]
  },
  {
   "cell_type": "code",
   "execution_count": 43,
   "id": "8dc7c1e6-099f-4bca-b781-f6c47f1470f4",
   "metadata": {},
   "outputs": [
    {
     "data": {
      "text/latex": [
       "$\\displaystyle - a a^{\\dagger} + b b^{\\dagger}$"
      ],
      "text/plain": [
       "-a*Dagger(a) + b*Dagger(b)"
      ]
     },
     "execution_count": 43,
     "metadata": {},
     "output_type": "execute_result"
    }
   ],
   "source": [
    "ordered.subs({ad*a:a*ad-1,bd*b:b*bd-1}).expand()"
   ]
  },
  {
   "cell_type": "markdown",
   "id": "74aaed4e-565d-4590-a3bc-6a04ce6c0425",
   "metadata": {},
   "source": [
    "**Task**: Define a function that implements all of the above to calculate\n",
    "\n",
    "$\\mathcal{L}[\\rho]= a \\rho a^{\\dagger}- \\frac{a^{\\dagger}a \\rho+\\rho a^{\\dagger}a}{2}$\n",
    "\n",
    "Test it on $\\rho=a^{\\dagger}a$"
   ]
  },
  {
   "cell_type": "code",
   "execution_count": 70,
   "id": "bba17d54",
   "metadata": {},
   "outputs": [
    {
     "data": {
      "text/latex": [
       "$\\displaystyle a \\rho a^{\\dagger} - \\frac{\\rho a^{\\dagger} a + a^{\\dagger} a \\rho}{2}$"
      ],
      "text/plain": [
       "a*rho*Dagger(a) - (rho*Dagger(a)*a + Dagger(a)*a*rho)/2"
      ]
     },
     "execution_count": 70,
     "metadata": {},
     "output_type": "execute_result"
    }
   ],
   "source": [
    "ordered=(a*rho*ad-(ad*a*rho+rho*ad*a)/2)\n",
    "ordered"
   ]
  },
  {
   "cell_type": "code",
   "execution_count": 71,
   "id": "bbee873a",
   "metadata": {},
   "outputs": [
    {
     "data": {
      "text/latex": [
       "$\\displaystyle 0$"
      ],
      "text/plain": [
       "0"
      ]
     },
     "execution_count": 71,
     "metadata": {},
     "output_type": "execute_result"
    }
   ],
   "source": [
    "rho=ad*a\n",
    "ordered=(a*rho*ad-(ad*a*rho+rho*ad*a)/2).subs({ad*a*ad*a:a*ad*a*ad})\n",
    "ordered"
   ]
  },
  {
   "cell_type": "code",
   "execution_count": 81,
   "id": "031a5d5a",
   "metadata": {},
   "outputs": [
    {
     "data": {
      "text/latex": [
       "$\\displaystyle a a^{\\dagger} - a^{\\dagger} a$"
      ],
      "text/plain": [
       "a*Dagger(a) - Dagger(a)*a"
      ]
     },
     "execution_count": 81,
     "metadata": {},
     "output_type": "execute_result"
    }
   ],
   "source": [
    "import sympy\n",
    "com = sympy.physics.quantum.Commutator(a, ad)\n",
    "com.doit()"
   ]
  },
  {
   "cell_type": "markdown",
   "id": "e0e4fdd4-a200-49ac-8e9f-7723ab5ba69f",
   "metadata": {},
   "source": [
    "# Review Excercises:"
   ]
  },
  {
   "cell_type": "markdown",
   "id": "e0804460",
   "metadata": {},
   "source": [
    "$$\\newcommand{\\ket}[1]{\\left|{#1}\\right\\rangle}$$\n",
    "$$\\newcommand{\\bra}[1]{\\left\\langle{#1}\\right|}$$\n",
    "\n",
    "1. One of the three qubits maximally entangled states is the GHZ state which is defined by:\n",
    "\n",
    "\\begin{equation}\n",
    "\\ket{\\psi}= \\frac{1}{\\sqrt{2}} \\left( \\ket{0} \\otimes \\ket{0} \\otimes \\ket{0} + \\ket{1} \\otimes \\ket{1} \\otimes \\ket{1} \\right) = \\frac{1}{\\sqrt{2}} \\left ( \\ket{000} +\\ket{111} \\right)\n",
    "\\end{equation}\n",
    "\n",
    "First show that the GHZ state is an eigenvector of $\\sigma_{y}\\otimes \\sigma_{y}\\otimes\\sigma_{x}$, what is the eigenvalue?\n",
    "\n",
    "Now add a relative phase such that \n",
    "\n",
    "\\begin{equation}\n",
    "\\ket{\\psi'} = \\frac{1}{\\sqrt{2}} \\left ( \\ket{000} +e^{i \\phi}\\ket{111} \\right)\n",
    "\\end{equation}\n",
    "\n",
    "Is $\\ket{\\psi'}$ an eigenvector?"
   ]
  },
  {
   "cell_type": "markdown",
   "id": "5acf3a61",
   "metadata": {},
   "source": [
    "### **Solution**:\n",
    "\n",
    "To solve this problem we are going to use the [Quantum mechanics library](https://docs.sympy.org/latest/modules/physics/quantum/index.html) for bracket notation, let us review how it worked\n",
    "\n",
    "To define a ket we simply use the Qubit command, which defines a ket in the computational basis:\n",
    "\n",
    "for example if we want $\\ket{00}=\\ket{0} \\otimes \\ket{0}$ we would simply do Qubit('00'), using this knowledge we move on to define the GHZ state"
   ]
  },
  {
   "cell_type": "code",
   "execution_count": 95,
   "id": "ef985836-439c-4760-8d8d-6ffe6220fda3",
   "metadata": {},
   "outputs": [
    {
     "data": {
      "text/latex": [
       "$\\displaystyle \\frac{\\sqrt{2} \\left({\\left|000\\right\\rangle } + {\\left|111\\right\\rangle }\\right)}{2}$"
      ],
      "text/plain": [
       "sqrt(2)*(|000> + |111>)/2"
      ]
     },
     "execution_count": 95,
     "metadata": {},
     "output_type": "execute_result"
    }
   ],
   "source": [
    "ghz=(1/sqrt(2))*(Qubit('000')+Qubit('111'))  # Definition of GHZ state\n",
    "ghz"
   ]
  },
  {
   "cell_type": "markdown",
   "id": "49895cee",
   "metadata": {},
   "source": [
    "remember we can go from qubit to matrix representation simply by using the represent command"
   ]
  },
  {
   "cell_type": "code",
   "execution_count": 14,
   "id": "ad86a4e7",
   "metadata": {},
   "outputs": [
    {
     "data": {
      "text/latex": [
       "$\\displaystyle \\left[\\begin{matrix}\\frac{\\sqrt{2}}{2}\\\\0\\\\0\\\\0\\\\0\\\\0\\\\0\\\\\\frac{\\sqrt{2}}{2}\\end{matrix}\\right]$"
      ],
      "text/plain": [
       "Matrix([\n",
       "[sqrt(2)/2],\n",
       "[        0],\n",
       "[        0],\n",
       "[        0],\n",
       "[        0],\n",
       "[        0],\n",
       "[        0],\n",
       "[sqrt(2)/2]])"
      ]
     },
     "execution_count": 14,
     "metadata": {},
     "output_type": "execute_result"
    }
   ],
   "source": [
    "represent(ghz)"
   ]
  },
  {
   "cell_type": "markdown",
   "id": "65231ad7",
   "metadata": {},
   "source": [
    "We may also go back simply by using the matrix_to_qubit command:"
   ]
  },
  {
   "cell_type": "code",
   "execution_count": 15,
   "id": "55e0b11d-61af-44ac-b809-2bbdba9f071e",
   "metadata": {},
   "outputs": [
    {
     "data": {
      "text/latex": [
       "$\\displaystyle \\frac{\\sqrt{2} {\\left|000\\right\\rangle }}{2} + \\frac{\\sqrt{2} {\\left|111\\right\\rangle }}{2}$"
      ],
      "text/plain": [
       "sqrt(2)*|000>/2 + sqrt(2)*|111>/2"
      ]
     },
     "execution_count": 15,
     "metadata": {},
     "output_type": "execute_result"
    }
   ],
   "source": [
    "matrix_to_qubit(represent(ghz))"
   ]
  },
  {
   "cell_type": "markdown",
   "id": "7af0c8d0",
   "metadata": {},
   "source": [
    " Now We need to apply the X, Y,Z gates on the qubit, they have been imported as X,Y and Z respectively since they are included in the quantum mechanics library, to apply them on a given qubit we simply indicate on which one we want to apply it on and them mulplity the state\n",
    " \n",
    " $X(0)\\ket{state}$\n",
    " \n",
    "Would apply the x gate on qubit 1, while\n",
    " \n",
    "  $Z(2)\\ket{state}$\n",
    "  \n",
    "Would apply the Z gate on qubit 3\n",
    "\n",
    "By convention the qubits are counted from right to left\n",
    "\n",
    "[Insert image]"
   ]
  },
  {
   "cell_type": "code",
   "execution_count": 16,
   "id": "af125fe5-e416-43a4-aeb1-e63e4c3de37f",
   "metadata": {},
   "outputs": [
    {
     "data": {
      "text/latex": [
       "$\\displaystyle \\frac{\\sqrt{2} X_{2} Y_{1} Y_{0} \\left({\\left|000\\right\\rangle } + {\\left|111\\right\\rangle }\\right)}{2}$"
      ],
      "text/plain": [
       "sqrt(2)*X(2)*Y(1)*Y(0)*(|000> + |111>)/2"
      ]
     },
     "execution_count": 16,
     "metadata": {},
     "output_type": "execute_result"
    }
   ],
   "source": [
    "state=X(2)*Y(1)*Y(0)*ghz #Apply required operations on GHZ\n",
    "state"
   ]
  },
  {
   "cell_type": "markdown",
   "id": "12203b45",
   "metadata": {},
   "source": [
    "To do the operations explicitly we need to call the qapply function"
   ]
  },
  {
   "cell_type": "code",
   "execution_count": 17,
   "id": "bdcc7665",
   "metadata": {},
   "outputs": [
    {
     "data": {
      "text/latex": [
       "$\\displaystyle - \\frac{\\sqrt{2} {\\left|000\\right\\rangle }}{2} - \\frac{\\sqrt{2} {\\left|111\\right\\rangle }}{2}$"
      ],
      "text/plain": [
       "-sqrt(2)*|000>/2 - sqrt(2)*|111>/2"
      ]
     },
     "execution_count": 17,
     "metadata": {},
     "output_type": "execute_result"
    }
   ],
   "source": [
    "state=qapply(state)\n",
    "state"
   ]
  },
  {
   "cell_type": "markdown",
   "id": "1175cb34",
   "metadata": {},
   "source": [
    "We can clearly see that GHZ is an eigenstate with eigenvalue -1"
   ]
  },
  {
   "cell_type": "code",
   "execution_count": 18,
   "id": "8419a38c",
   "metadata": {},
   "outputs": [
    {
     "data": {
      "text/latex": [
       "$\\displaystyle 0$"
      ],
      "text/plain": [
       "0"
      ]
     },
     "execution_count": 18,
     "metadata": {},
     "output_type": "execute_result"
    }
   ],
   "source": [
    "(state+ghz).expand() #verifification of statement above"
   ]
  },
  {
   "cell_type": "markdown",
   "id": "d54d579e",
   "metadata": {},
   "source": [
    "#### **Task**: Complete the rest of the exercise by repeating the steps"
   ]
  },
  {
   "cell_type": "code",
   "execution_count": 19,
   "id": "f449785c-9f20-44b8-8ac0-18c6595068ec",
   "metadata": {},
   "outputs": [],
   "source": [
    "phi=symbols('phi')"
   ]
  },
  {
   "cell_type": "code",
   "execution_count": 87,
   "id": "314fab5e-073c-4fe1-8011-3fc1171f808c",
   "metadata": {},
   "outputs": [
    {
     "data": {
      "text/latex": [
       "$\\displaystyle e^{i \\phi}$"
      ],
      "text/plain": [
       "exp(I*phi)"
      ]
     },
     "execution_count": 87,
     "metadata": {},
     "output_type": "execute_result"
    }
   ],
   "source": [
    "e=exp(I*phi) # Definition of the phase as a hint \n",
    "e"
   ]
  },
  {
   "cell_type": "code",
   "execution_count": 88,
   "id": "35ff4658",
   "metadata": {},
   "outputs": [
    {
     "data": {
      "text/latex": [
       "$\\displaystyle \\frac{\\sqrt{2} \\left(e^{i \\phi} {\\left|111\\right\\rangle } + {\\left|000\\right\\rangle }\\right)}{2}$"
      ],
      "text/plain": [
       "sqrt(2)*(exp(I*phi)*|111> + |000>)/2"
      ]
     },
     "execution_count": 88,
     "metadata": {},
     "output_type": "execute_result"
    }
   ],
   "source": [
    "ghz2=(1/sqrt(2))*(Qubit('000')+e*Qubit('111')) \n",
    "ghz2"
   ]
  },
  {
   "cell_type": "code",
   "execution_count": 89,
   "id": "ecc8e70a",
   "metadata": {},
   "outputs": [
    {
     "data": {
      "text/latex": [
       "$\\displaystyle \\left[\\begin{matrix}\\frac{\\sqrt{2}}{2}\\\\0\\\\0\\\\0\\\\0\\\\0\\\\0\\\\\\frac{\\sqrt{2} e^{i \\phi}}{2}\\end{matrix}\\right]$"
      ],
      "text/plain": [
       "Matrix([\n",
       "[           sqrt(2)/2],\n",
       "[                   0],\n",
       "[                   0],\n",
       "[                   0],\n",
       "[                   0],\n",
       "[                   0],\n",
       "[                   0],\n",
       "[sqrt(2)*exp(I*phi)/2]])"
      ]
     },
     "execution_count": 89,
     "metadata": {},
     "output_type": "execute_result"
    }
   ],
   "source": [
    "represent(ghz2)"
   ]
  },
  {
   "cell_type": "code",
   "execution_count": 90,
   "id": "4dae761b",
   "metadata": {},
   "outputs": [
    {
     "data": {
      "text/latex": [
       "$\\displaystyle \\frac{\\sqrt{2} e^{i \\phi} {\\left|111\\right\\rangle }}{2} + \\frac{\\sqrt{2} {\\left|000\\right\\rangle }}{2}$"
      ],
      "text/plain": [
       "sqrt(2)*exp(I*phi)*|111>/2 + sqrt(2)*|000>/2"
      ]
     },
     "execution_count": 90,
     "metadata": {},
     "output_type": "execute_result"
    }
   ],
   "source": [
    "matrix_to_qubit(represent(ghz2))"
   ]
  },
  {
   "cell_type": "code",
   "execution_count": 91,
   "id": "d8931665",
   "metadata": {},
   "outputs": [
    {
     "data": {
      "text/latex": [
       "$\\displaystyle \\frac{\\sqrt{2} X_{2} Y_{1} Y_{0} \\left(e^{i \\phi} {\\left|111\\right\\rangle } + {\\left|000\\right\\rangle }\\right)}{2}$"
      ],
      "text/plain": [
       "sqrt(2)*X(2)*Y(1)*Y(0)*(exp(I*phi)*|111> + |000>)/2"
      ]
     },
     "execution_count": 91,
     "metadata": {},
     "output_type": "execute_result"
    }
   ],
   "source": [
    "state2=X(2)*Y(1)*Y(0)*ghz2\n",
    "state2"
   ]
  },
  {
   "cell_type": "code",
   "execution_count": 92,
   "id": "057d4aed",
   "metadata": {},
   "outputs": [
    {
     "data": {
      "text/latex": [
       "$\\displaystyle - \\frac{\\sqrt{2} {\\left|111\\right\\rangle }}{2} + \\frac{\\sqrt{2} X_{2} Y_{1} Y_{0} e^{i \\phi} {\\left|111\\right\\rangle }}{2}$"
      ],
      "text/plain": [
       "-sqrt(2)*|111>/2 + sqrt(2)*X(2)*Y(1)*Y(0)*exp(I*phi)*|111>/2"
      ]
     },
     "execution_count": 92,
     "metadata": {},
     "output_type": "execute_result"
    }
   ],
   "source": [
    "state2=qapply(state2)\n",
    "state2"
   ]
  },
  {
   "cell_type": "code",
   "execution_count": 93,
   "id": "502ddf66",
   "metadata": {},
   "outputs": [
    {
     "data": {
      "text/latex": [
       "$\\displaystyle \\frac{\\sqrt{2} e^{i \\phi} {\\left|111\\right\\rangle }}{2} + \\frac{\\sqrt{2} {\\left|000\\right\\rangle }}{2} - \\frac{\\sqrt{2} {\\left|111\\right\\rangle }}{2} + \\frac{\\sqrt{2} X_{2} Y_{1} Y_{0} e^{i \\phi} {\\left|111\\right\\rangle }}{2}$"
      ],
      "text/plain": [
       "sqrt(2)*exp(I*phi)*|111>/2 + sqrt(2)*|000>/2 - sqrt(2)*|111>/2 + sqrt(2)*X(2)*Y(1)*Y(0)*exp(I*phi)*|111>/2"
      ]
     },
     "execution_count": 93,
     "metadata": {},
     "output_type": "execute_result"
    }
   ],
   "source": [
    "(state2+ghz2).expand()"
   ]
  },
  {
   "cell_type": "markdown",
   "id": "50b7ea8d",
   "metadata": {},
   "source": [
    "Using $\\ket{\\psi}$ Calculate the following expectation values:\n",
    "\n",
    "\\begin{align*}\n",
    "\\bra{\\psi} (\\sigma_{y} \\otimes \\sigma_{y} \\otimes \\sigma_{y})\\ket{\\psi}, \\hspace{0.5cm} \\bra{\\psi} (\\sigma_{x} \\otimes \\sigma_{x} \\otimes \\sigma_{y})\\ket{\\psi} \\\\\n",
    "\\bra{\\psi} (\\sigma_{x} \\otimes \\sigma_{y} \\otimes \\sigma_{x})\\ket{\\psi}, \\hspace{0.5cm} \\bra{\\psi} (\\sigma_{y} \\otimes \\sigma_{x} \\otimes \\sigma_{x})\\ket{\\psi}\n",
    "\\end{align*}\n",
    "\n",
    "What do they have in common? Now calculate:\n",
    "\n",
    "\\begin{align*}\n",
    "\\bra{\\psi} (\\sigma_{x} \\otimes \\sigma_{y} \\otimes \\sigma_{y})\\ket{\\psi}, \\hspace{0.5cm} \\bra{\\psi} (\\sigma_{y} \\otimes \\sigma_{x} \\otimes \\sigma_{y})\\ket{\\psi} \\\\\n",
    "\\bra{\\psi} (\\sigma_{y} \\otimes \\sigma_{y} \\otimes \\sigma_{x})\\ket{\\psi}, \\hspace{0.5cm} \\bra{\\psi} (\\sigma_{x} \\otimes \\sigma_{x} \\otimes \\sigma_{x})\\ket{\\psi}\n",
    "\\end{align*}\n",
    "\n",
    "Are they different from the previous group?"
   ]
  },
  {
   "cell_type": "markdown",
   "id": "674b28e8",
   "metadata": {},
   "source": [
    "### Beginning of the solution:\n",
    "\n",
    "We already reviewed how to compute thinks like $\\sigma_{y}\\otimes \\sigma_{y} \\otimes \\sigma_{y} \\ket{\\psi}$ so let us start by doing that"
   ]
  },
  {
   "cell_type": "code",
   "execution_count": 96,
   "id": "ef1486f5",
   "metadata": {},
   "outputs": [
    {
     "data": {
      "text/latex": [
       "$\\displaystyle \\frac{\\sqrt{2} Y_{0} Y_{1} Y_{2} \\left({\\left|000\\right\\rangle } + {\\left|111\\right\\rangle }\\right)}{2}$"
      ],
      "text/plain": [
       "sqrt(2)*Y(0)*Y(1)*Y(2)*(|000> + |111>)/2"
      ]
     },
     "execution_count": 96,
     "metadata": {},
     "output_type": "execute_result"
    }
   ],
   "source": [
    "state=Y(0)*Y(1)*Y(2)*ghz\n",
    "state"
   ]
  },
  {
   "cell_type": "markdown",
   "id": "04fb568a",
   "metadata": {},
   "source": [
    "Then let us remember that to obtain, the bra from a ket we simply need to perform the dagger operation $\\ket{\\psi}^{\\dagger}=\\bra{\\psi}$, which in this framework is implemented by the Dagger function"
   ]
  },
  {
   "cell_type": "code",
   "execution_count": 97,
   "id": "4418ff68",
   "metadata": {},
   "outputs": [
    {
     "data": {
      "text/latex": [
       "$\\displaystyle \\frac{\\sqrt{2} \\left({\\left\\langle 000\\right|} + {\\left\\langle 111\\right|}\\right)}{2}$"
      ],
      "text/plain": [
       "sqrt(2)*(<000| + <111|)/2"
      ]
     },
     "execution_count": 97,
     "metadata": {},
     "output_type": "execute_result"
    }
   ],
   "source": [
    "Dagger(ghz)"
   ]
  },
  {
   "cell_type": "markdown",
   "id": "708824e5",
   "metadata": {},
   "source": [
    "We may then simply multiply the dagger so that we obtain $\\bra{\\psi}\\sigma_{y}\\otimes \\sigma_{y} \\otimes \\sigma_{y} \\ket{\\psi}$"
   ]
  },
  {
   "cell_type": "code",
   "execution_count": 98,
   "id": "1bf223e6",
   "metadata": {},
   "outputs": [
    {
     "data": {
      "text/latex": [
       "$\\displaystyle \\frac{{\\left\\langle 000\\right|} Y_{0} Y_{1} Y_{2} {\\left|000\\right\\rangle }}{2} + \\frac{{\\left\\langle 000\\right|} Y_{0} Y_{1} Y_{2} {\\left|111\\right\\rangle }}{2} + \\frac{{\\left\\langle 111\\right|} Y_{0} Y_{1} Y_{2} {\\left|000\\right\\rangle }}{2} + \\frac{{\\left\\langle 111\\right|} Y_{0} Y_{1} Y_{2} {\\left|111\\right\\rangle }}{2}$"
      ],
      "text/plain": [
       "<000|*Y(0)*Y(1)*Y(2)*|000>/2 + <000|*Y(0)*Y(1)*Y(2)*|111>/2 + <111|*Y(0)*Y(1)*Y(2)*|000>/2 + <111|*Y(0)*Y(1)*Y(2)*|111>/2"
      ]
     },
     "execution_count": 98,
     "metadata": {},
     "output_type": "execute_result"
    }
   ],
   "source": [
    "(Dagger(ghz)*state).expand() # we used expand so it displays better"
   ]
  },
  {
   "cell_type": "markdown",
   "id": "0ea4a826",
   "metadata": {},
   "source": [
    "Again we use qapply to get the explicit calculation, and do it so that it computes inner products (which sometimes qapply does not execute)"
   ]
  },
  {
   "cell_type": "code",
   "execution_count": 99,
   "id": "17f0afad",
   "metadata": {},
   "outputs": [
    {
     "data": {
      "text/latex": [
       "$\\displaystyle 0$"
      ],
      "text/plain": [
       "0"
      ]
     },
     "execution_count": 99,
     "metadata": {},
     "output_type": "execute_result"
    }
   ],
   "source": [
    "qapply((Dagger(ghz)*state).expand()).doit()"
   ]
  },
  {
   "cell_type": "markdown",
   "id": "0e5f4b9b",
   "metadata": {},
   "source": [
    "### We may do the same by matrix multiplication let us remind ourselves how it works using matrix multiplication in sympy which we covered the first 2 weeks (for those of you more experience it will be done on numpy as well), we first define $\\sigma_y$ as a matrix"
   ]
  },
  {
   "cell_type": "code",
   "execution_count": 100,
   "id": "e0bdf119",
   "metadata": {},
   "outputs": [
    {
     "data": {
      "text/latex": [
       "$\\displaystyle \\left[\\begin{matrix}0 & - i\\\\i & 0\\end{matrix}\\right]$"
      ],
      "text/plain": [
       "Matrix([\n",
       "[0, -I],\n",
       "[I,  0]])"
      ]
     },
     "execution_count": 100,
     "metadata": {},
     "output_type": "execute_result"
    }
   ],
   "source": [
    "sy=Matrix([[0,-I],[I,0]])\n",
    "sy"
   ]
  },
  {
   "cell_type": "markdown",
   "id": "3e42233d",
   "metadata": {},
   "source": [
    "Then we may remember that we can obtain $\\sigma_{y} \\otimes \\sigma_{y}$ by the kronecker product, so we use that to find\n",
    "$\\sigma_{y} \\otimes \\sigma_{y}\\otimes \\sigma_{y}$"
   ]
  },
  {
   "cell_type": "code",
   "execution_count": 101,
   "id": "ea10c84e",
   "metadata": {},
   "outputs": [
    {
     "data": {
      "text/latex": [
       "$\\displaystyle \\left[\\begin{matrix}0 & 0 & 0 & -1\\\\0 & 0 & 1 & 0\\\\0 & 1 & 0 & 0\\\\-1 & 0 & 0 & 0\\end{matrix}\\right]$"
      ],
      "text/plain": [
       "Matrix([\n",
       "[ 0, 0, 0, -1],\n",
       "[ 0, 0, 1,  0],\n",
       "[ 0, 1, 0,  0],\n",
       "[-1, 0, 0,  0]])"
      ]
     },
     "execution_count": 101,
     "metadata": {},
     "output_type": "execute_result"
    }
   ],
   "source": [
    "sy2=kronecker_product(sy,sy)\n",
    "sy2"
   ]
  },
  {
   "cell_type": "code",
   "execution_count": 102,
   "id": "39e33d8e",
   "metadata": {},
   "outputs": [
    {
     "data": {
      "text/latex": [
       "$\\displaystyle \\left[\\begin{matrix}0 & 0 & 0 & 0 & 0 & 0 & 0 & i\\\\0 & 0 & 0 & 0 & 0 & 0 & - i & 0\\\\0 & 0 & 0 & 0 & 0 & - i & 0 & 0\\\\0 & 0 & 0 & 0 & i & 0 & 0 & 0\\\\0 & 0 & 0 & - i & 0 & 0 & 0 & 0\\\\0 & 0 & i & 0 & 0 & 0 & 0 & 0\\\\0 & i & 0 & 0 & 0 & 0 & 0 & 0\\\\- i & 0 & 0 & 0 & 0 & 0 & 0 & 0\\end{matrix}\\right]$"
      ],
      "text/plain": [
       "Matrix([\n",
       "[ 0, 0, 0,  0, 0,  0,  0, I],\n",
       "[ 0, 0, 0,  0, 0,  0, -I, 0],\n",
       "[ 0, 0, 0,  0, 0, -I,  0, 0],\n",
       "[ 0, 0, 0,  0, I,  0,  0, 0],\n",
       "[ 0, 0, 0, -I, 0,  0,  0, 0],\n",
       "[ 0, 0, I,  0, 0,  0,  0, 0],\n",
       "[ 0, I, 0,  0, 0,  0,  0, 0],\n",
       "[-I, 0, 0,  0, 0,  0,  0, 0]])"
      ]
     },
     "execution_count": 102,
     "metadata": {},
     "output_type": "execute_result"
    }
   ],
   "source": [
    "sy3=kronecker_product(sy,sy2)\n",
    "sy3"
   ]
  },
  {
   "cell_type": "markdown",
   "id": "83411d0d",
   "metadata": {},
   "source": [
    "Now we neet to construct the GHZ state. We may obtain it from the kronecker product as well remembering that:\n",
    "\n",
    "\\begin{equation}\n",
    "\\ket{\\psi}= \\frac{1}{\\sqrt{2}} \\left( \\ket{0} \\otimes \\ket{0} \\otimes \\ket{0} + \\ket{1} \\otimes \\ket{1} \\otimes \\ket{1} \\right) = \\frac{1}{\\sqrt{2}} \\left ( \\ket{000} +\\ket{111} \\right)\n",
    "\\end{equation}\n",
    "\n",
    "let us first define the computational basis ($\\ket{0},\\ket{1}$)"
   ]
  },
  {
   "cell_type": "code",
   "execution_count": 103,
   "id": "1a7e2cf3",
   "metadata": {},
   "outputs": [
    {
     "data": {
      "text/latex": [
       "$\\displaystyle \\left[\\begin{matrix}1\\\\0\\end{matrix}\\right]$"
      ],
      "text/plain": [
       "Matrix([\n",
       "[1],\n",
       "[0]])"
      ]
     },
     "execution_count": 103,
     "metadata": {},
     "output_type": "execute_result"
    }
   ],
   "source": [
    "zero=Matrix([1,0])\n",
    "zero"
   ]
  },
  {
   "cell_type": "code",
   "execution_count": 104,
   "id": "6e4d7540",
   "metadata": {},
   "outputs": [
    {
     "data": {
      "text/latex": [
       "$\\displaystyle \\left[\\begin{matrix}0\\\\1\\end{matrix}\\right]$"
      ],
      "text/plain": [
       "Matrix([\n",
       "[0],\n",
       "[1]])"
      ]
     },
     "execution_count": 104,
     "metadata": {},
     "output_type": "execute_result"
    }
   ],
   "source": [
    "one=Matrix([0,1])\n",
    "one"
   ]
  },
  {
   "cell_type": "markdown",
   "id": "5b7c7e2b",
   "metadata": {},
   "source": [
    "Now we get $\\ket{0}\\otimes\\ket{0}\\otimes\\ket{0}=\\ket{000} $ in the same way we got the tensor product for $\\sigma_{y}s$"
   ]
  },
  {
   "cell_type": "code",
   "execution_count": 105,
   "id": "69f64577",
   "metadata": {},
   "outputs": [
    {
     "data": {
      "text/latex": [
       "$\\displaystyle \\left[\\begin{matrix}1\\\\0\\\\0\\\\0\\end{matrix}\\right]$"
      ],
      "text/plain": [
       "Matrix([\n",
       "[1],\n",
       "[0],\n",
       "[0],\n",
       "[0]])"
      ]
     },
     "execution_count": 105,
     "metadata": {},
     "output_type": "execute_result"
    }
   ],
   "source": [
    "zero2=kronecker_product(zero,zero)\n",
    "zero2"
   ]
  },
  {
   "cell_type": "code",
   "execution_count": 106,
   "id": "cbe9ca49",
   "metadata": {},
   "outputs": [
    {
     "data": {
      "text/latex": [
       "$\\displaystyle \\left[\\begin{matrix}1\\\\0\\\\0\\\\0\\\\0\\\\0\\\\0\\\\0\\end{matrix}\\right]$"
      ],
      "text/plain": [
       "Matrix([\n",
       "[1],\n",
       "[0],\n",
       "[0],\n",
       "[0],\n",
       "[0],\n",
       "[0],\n",
       "[0],\n",
       "[0]])"
      ]
     },
     "execution_count": 106,
     "metadata": {},
     "output_type": "execute_result"
    }
   ],
   "source": [
    "zero3=kronecker_product(zero,zero2)\n",
    "zero3"
   ]
  },
  {
   "cell_type": "code",
   "execution_count": 107,
   "id": "ea3b0ffb",
   "metadata": {},
   "outputs": [
    {
     "data": {
      "text/latex": [
       "$\\displaystyle \\left[\\begin{matrix}0\\\\0\\\\0\\\\1\\end{matrix}\\right]$"
      ],
      "text/plain": [
       "Matrix([\n",
       "[0],\n",
       "[0],\n",
       "[0],\n",
       "[1]])"
      ]
     },
     "execution_count": 107,
     "metadata": {},
     "output_type": "execute_result"
    }
   ],
   "source": [
    "one2=kronecker_product(one,one)\n",
    "one2"
   ]
  },
  {
   "cell_type": "code",
   "execution_count": 108,
   "id": "e1a9a15d",
   "metadata": {},
   "outputs": [
    {
     "data": {
      "text/latex": [
       "$\\displaystyle \\left[\\begin{matrix}0\\\\0\\\\0\\\\0\\\\0\\\\0\\\\0\\\\1\\end{matrix}\\right]$"
      ],
      "text/plain": [
       "Matrix([\n",
       "[0],\n",
       "[0],\n",
       "[0],\n",
       "[0],\n",
       "[0],\n",
       "[0],\n",
       "[0],\n",
       "[1]])"
      ]
     },
     "execution_count": 108,
     "metadata": {},
     "output_type": "execute_result"
    }
   ],
   "source": [
    "one3=kronecker_product(one,one2)\n",
    "one3"
   ]
  },
  {
   "cell_type": "markdown",
   "id": "64365cde",
   "metadata": {},
   "source": [
    "then the GHZ state is given by:"
   ]
  },
  {
   "cell_type": "code",
   "execution_count": 109,
   "id": "ef12d6d1",
   "metadata": {},
   "outputs": [
    {
     "data": {
      "text/latex": [
       "$\\displaystyle \\left[\\begin{matrix}\\frac{\\sqrt{2}}{2}\\\\0\\\\0\\\\0\\\\0\\\\0\\\\0\\\\\\frac{\\sqrt{2}}{2}\\end{matrix}\\right]$"
      ],
      "text/plain": [
       "Matrix([\n",
       "[sqrt(2)/2],\n",
       "[        0],\n",
       "[        0],\n",
       "[        0],\n",
       "[        0],\n",
       "[        0],\n",
       "[        0],\n",
       "[sqrt(2)/2]])"
      ]
     },
     "execution_count": 109,
     "metadata": {},
     "output_type": "execute_result"
    }
   ],
   "source": [
    "ghz_matrix=(one3+zero3)/sqrt(2)\n",
    "ghz_matrix"
   ]
  },
  {
   "cell_type": "code",
   "execution_count": 110,
   "id": "80d9e509",
   "metadata": {},
   "outputs": [
    {
     "data": {
      "text/plain": [
       "True"
      ]
     },
     "execution_count": 110,
     "metadata": {},
     "output_type": "execute_result"
    }
   ],
   "source": [
    "represent(ghz)==ghz_matrix ## Checking it's the same as our implementation in bra-ket"
   ]
  },
  {
   "cell_type": "code",
   "execution_count": 111,
   "id": "88ce58b0",
   "metadata": {},
   "outputs": [
    {
     "data": {
      "text/latex": [
       "$\\displaystyle \\left[\\begin{matrix}\\frac{\\sqrt{2} i}{2}\\\\0\\\\0\\\\0\\\\0\\\\0\\\\0\\\\- \\frac{\\sqrt{2} i}{2}\\end{matrix}\\right]$"
      ],
      "text/plain": [
       "Matrix([\n",
       "[ sqrt(2)*I/2],\n",
       "[           0],\n",
       "[           0],\n",
       "[           0],\n",
       "[           0],\n",
       "[           0],\n",
       "[           0],\n",
       "[-sqrt(2)*I/2]])"
      ]
     },
     "execution_count": 111,
     "metadata": {},
     "output_type": "execute_result"
    }
   ],
   "source": [
    "sy3*ghz_matrix ## We simply apply the sigma_ys on ghz"
   ]
  },
  {
   "cell_type": "markdown",
   "id": "803fd908",
   "metadata": {},
   "source": [
    "We now simply compute the inner product by matrix multiplication (row vector times column vector), we obtain the row vector by Dagger once again"
   ]
  },
  {
   "cell_type": "code",
   "execution_count": 112,
   "id": "298f9c35",
   "metadata": {},
   "outputs": [
    {
     "data": {
      "text/latex": [
       "$\\displaystyle \\left[\\begin{matrix}0\\end{matrix}\\right]$"
      ],
      "text/plain": [
       "Matrix([[0]])"
      ]
     },
     "execution_count": 112,
     "metadata": {},
     "output_type": "execute_result"
    }
   ],
   "source": [
    "Dagger(ghz_matrix)*sy3*ghz_matrix"
   ]
  },
  {
   "cell_type": "markdown",
   "id": "9070e8cb",
   "metadata": {},
   "source": [
    "####  **Task**: \n",
    "\n",
    "Finish this by excersise by following the same steps,  The results agree, which method to use to complete the exercise is up to you however for dimensionality an ease of reading we recomend you use bracket notation (which is way easier on handwritten calculations)"
   ]
  },
  {
   "cell_type": "code",
   "execution_count": 128,
   "id": "63aa8fac",
   "metadata": {},
   "outputs": [
    {
     "data": {
      "text/latex": [
       "$\\displaystyle - \\frac{\\sqrt{2} i {\\left|000\\right\\rangle }}{2} + \\frac{\\sqrt{2} i {\\left|111\\right\\rangle }}{2}$"
      ],
      "text/plain": [
       "-sqrt(2)*I*|000>/2 + sqrt(2)*I*|111>/2"
      ]
     },
     "execution_count": 128,
     "metadata": {},
     "output_type": "execute_result"
    }
   ],
   "source": [
    "qapply(X(0)*X(1)*Y(2)*ghz)"
   ]
  },
  {
   "cell_type": "code",
   "execution_count": 129,
   "id": "2de54192",
   "metadata": {},
   "outputs": [
    {
     "data": {
      "text/latex": [
       "$\\displaystyle 0$"
      ],
      "text/plain": [
       "0"
      ]
     },
     "execution_count": 129,
     "metadata": {},
     "output_type": "execute_result"
    }
   ],
   "source": [
    "qapply((Dagger(ghz)*X(0)*X(1)*Y(2)*ghz).expand()).doit()"
   ]
  },
  {
   "cell_type": "code",
   "execution_count": 130,
   "id": "32f178d7",
   "metadata": {},
   "outputs": [
    {
     "data": {
      "text/latex": [
       "$\\displaystyle - \\frac{\\sqrt{2} i {\\left|000\\right\\rangle }}{2} + \\frac{\\sqrt{2} i {\\left|111\\right\\rangle }}{2}$"
      ],
      "text/plain": [
       "-sqrt(2)*I*|000>/2 + sqrt(2)*I*|111>/2"
      ]
     },
     "execution_count": 130,
     "metadata": {},
     "output_type": "execute_result"
    }
   ],
   "source": [
    "qapply(X(0)*Y(1)*X(2)*ghz)"
   ]
  },
  {
   "cell_type": "code",
   "execution_count": 131,
   "id": "48cac11f",
   "metadata": {},
   "outputs": [
    {
     "data": {
      "text/latex": [
       "$\\displaystyle 0$"
      ],
      "text/plain": [
       "0"
      ]
     },
     "execution_count": 131,
     "metadata": {},
     "output_type": "execute_result"
    }
   ],
   "source": [
    "qapply((Dagger(ghz)*X(0)*Y(1)*X(2)*ghz).expand()).doit()"
   ]
  },
  {
   "cell_type": "code",
   "execution_count": 132,
   "id": "6838ecf9",
   "metadata": {},
   "outputs": [
    {
     "data": {
      "text/latex": [
       "$\\displaystyle - \\frac{\\sqrt{2} i {\\left|000\\right\\rangle }}{2} + \\frac{\\sqrt{2} i {\\left|111\\right\\rangle }}{2}$"
      ],
      "text/plain": [
       "-sqrt(2)*I*|000>/2 + sqrt(2)*I*|111>/2"
      ]
     },
     "execution_count": 132,
     "metadata": {},
     "output_type": "execute_result"
    }
   ],
   "source": [
    "qapply(Y(0)*X(1)*X(2)*ghz)"
   ]
  },
  {
   "cell_type": "code",
   "execution_count": 133,
   "id": "bc53134f",
   "metadata": {},
   "outputs": [
    {
     "data": {
      "text/latex": [
       "$\\displaystyle 0$"
      ],
      "text/plain": [
       "0"
      ]
     },
     "execution_count": 133,
     "metadata": {},
     "output_type": "execute_result"
    }
   ],
   "source": [
    "qapply((Dagger(ghz)*Y(0)*X(1)*X(2)*ghz).expand()).doit()"
   ]
  },
  {
   "cell_type": "code",
   "execution_count": 134,
   "id": "66ed8ddb",
   "metadata": {},
   "outputs": [
    {
     "data": {
      "text/latex": [
       "$\\displaystyle - \\frac{\\sqrt{2} {\\left|000\\right\\rangle }}{2} - \\frac{\\sqrt{2} {\\left|111\\right\\rangle }}{2}$"
      ],
      "text/plain": [
       "-sqrt(2)*|000>/2 - sqrt(2)*|111>/2"
      ]
     },
     "execution_count": 134,
     "metadata": {},
     "output_type": "execute_result"
    }
   ],
   "source": [
    "qapply(X(0)*Y(1)*Y(2)*ghz)"
   ]
  },
  {
   "cell_type": "code",
   "execution_count": 135,
   "id": "23b7db96",
   "metadata": {},
   "outputs": [
    {
     "data": {
      "text/latex": [
       "$\\displaystyle -1$"
      ],
      "text/plain": [
       "-1"
      ]
     },
     "execution_count": 135,
     "metadata": {},
     "output_type": "execute_result"
    }
   ],
   "source": [
    "qapply((Dagger(ghz)*X(0)*Y(1)*Y(2)*ghz).expand()).doit()"
   ]
  },
  {
   "cell_type": "code",
   "execution_count": 138,
   "id": "97ed7842",
   "metadata": {},
   "outputs": [
    {
     "data": {
      "text/latex": [
       "$\\displaystyle - \\frac{\\sqrt{2} {\\left|000\\right\\rangle }}{2} - \\frac{\\sqrt{2} {\\left|111\\right\\rangle }}{2}$"
      ],
      "text/plain": [
       "-sqrt(2)*|000>/2 - sqrt(2)*|111>/2"
      ]
     },
     "execution_count": 138,
     "metadata": {},
     "output_type": "execute_result"
    }
   ],
   "source": [
    "qapply(Y(0)*X(1)*Y(2)*ghz)"
   ]
  },
  {
   "cell_type": "code",
   "execution_count": 139,
   "id": "cec43ec0",
   "metadata": {},
   "outputs": [
    {
     "data": {
      "text/latex": [
       "$\\displaystyle -1$"
      ],
      "text/plain": [
       "-1"
      ]
     },
     "execution_count": 139,
     "metadata": {},
     "output_type": "execute_result"
    }
   ],
   "source": [
    "qapply((Dagger(ghz)*Y(0)*X(1)*Y(2)*ghz).expand()).doit()"
   ]
  },
  {
   "cell_type": "code",
   "execution_count": 140,
   "id": "546e63c5",
   "metadata": {},
   "outputs": [
    {
     "data": {
      "text/latex": [
       "$\\displaystyle - \\frac{\\sqrt{2} {\\left|000\\right\\rangle }}{2} - \\frac{\\sqrt{2} {\\left|111\\right\\rangle }}{2}$"
      ],
      "text/plain": [
       "-sqrt(2)*|000>/2 - sqrt(2)*|111>/2"
      ]
     },
     "execution_count": 140,
     "metadata": {},
     "output_type": "execute_result"
    }
   ],
   "source": [
    "qapply(Y(0)*Y(1)*X(2)*ghz)"
   ]
  },
  {
   "cell_type": "code",
   "execution_count": 142,
   "id": "af60d2b2",
   "metadata": {},
   "outputs": [
    {
     "data": {
      "text/latex": [
       "$\\displaystyle -1$"
      ],
      "text/plain": [
       "-1"
      ]
     },
     "execution_count": 142,
     "metadata": {},
     "output_type": "execute_result"
    }
   ],
   "source": [
    "qapply((Dagger(ghz)*Y(0)*Y(1)*X(2)*ghz).expand()).doit()"
   ]
  },
  {
   "cell_type": "code",
   "execution_count": 143,
   "id": "d3409b1a",
   "metadata": {},
   "outputs": [
    {
     "data": {
      "text/latex": [
       "$\\displaystyle \\frac{\\sqrt{2} {\\left|000\\right\\rangle }}{2} + \\frac{\\sqrt{2} {\\left|111\\right\\rangle }}{2}$"
      ],
      "text/plain": [
       "sqrt(2)*|000>/2 + sqrt(2)*|111>/2"
      ]
     },
     "execution_count": 143,
     "metadata": {},
     "output_type": "execute_result"
    }
   ],
   "source": [
    "qapply(X(0)*X(1)*X(2)*ghz)"
   ]
  },
  {
   "cell_type": "code",
   "execution_count": 144,
   "id": "95b42ca5",
   "metadata": {},
   "outputs": [
    {
     "data": {
      "text/latex": [
       "$\\displaystyle 1$"
      ],
      "text/plain": [
       "1"
      ]
     },
     "execution_count": 144,
     "metadata": {},
     "output_type": "execute_result"
    }
   ],
   "source": [
    "qapply((Dagger(ghz)*X(0)*X(1)*X(2)*ghz).expand()).doit()"
   ]
  },
  {
   "cell_type": "markdown",
   "id": "13e554d7",
   "metadata": {},
   "source": [
    "**Task**: Think about $\\ket{00000...000}$ and  $\\ket{111...111}$ meaning n qubit states of all zeros and ones, can you always tell what is vector representation is? what is it?"
   ]
  },
  {
   "cell_type": "markdown",
   "id": "d6c9b89f",
   "metadata": {},
   "source": [
    "Based on the exampels: "
   ]
  },
  {
   "cell_type": "markdown",
   "id": "4dd60521",
   "metadata": {},
   "source": [
    "$\\ket{1}$ is:"
   ]
  },
  {
   "cell_type": "code",
   "execution_count": 152,
   "id": "41ebba28",
   "metadata": {},
   "outputs": [
    {
     "data": {
      "text/latex": [
       "$\\displaystyle \\left[\\begin{matrix}0\\\\1\\end{matrix}\\right]$"
      ],
      "text/plain": [
       "Matrix([\n",
       "[0],\n",
       "[1]])"
      ]
     },
     "execution_count": 152,
     "metadata": {},
     "output_type": "execute_result"
    }
   ],
   "source": [
    "one"
   ]
  },
  {
   "cell_type": "markdown",
   "id": "aabbdfcb",
   "metadata": {},
   "source": [
    "$\\ket{11}$ is:"
   ]
  },
  {
   "cell_type": "code",
   "execution_count": 150,
   "id": "691b2ec0",
   "metadata": {},
   "outputs": [
    {
     "data": {
      "text/latex": [
       "$\\displaystyle \\left[\\begin{matrix}0\\\\0\\\\0\\\\1\\end{matrix}\\right]$"
      ],
      "text/plain": [
       "Matrix([\n",
       "[0],\n",
       "[0],\n",
       "[0],\n",
       "[1]])"
      ]
     },
     "execution_count": 150,
     "metadata": {},
     "output_type": "execute_result"
    }
   ],
   "source": [
    "one2 "
   ]
  },
  {
   "cell_type": "markdown",
   "id": "6cf88a0c",
   "metadata": {},
   "source": [
    "$\\ket{111}$ is:"
   ]
  },
  {
   "cell_type": "code",
   "execution_count": 153,
   "id": "2bc19dc5",
   "metadata": {},
   "outputs": [
    {
     "data": {
      "text/latex": [
       "$\\displaystyle \\left[\\begin{matrix}0\\\\0\\\\0\\\\0\\\\0\\\\0\\\\0\\\\1\\end{matrix}\\right]$"
      ],
      "text/plain": [
       "Matrix([\n",
       "[0],\n",
       "[0],\n",
       "[0],\n",
       "[0],\n",
       "[0],\n",
       "[0],\n",
       "[0],\n",
       "[1]])"
      ]
     },
     "execution_count": 153,
     "metadata": {},
     "output_type": "execute_result"
    }
   ],
   "source": [
    "one3"
   ]
  },
  {
   "cell_type": "markdown",
   "id": "d5dd8b59",
   "metadata": {},
   "source": [
    "One can realised that in every case all values of a vector except last one are equal to 0 and last one value is equel to 1. One can assume that for every vector of 2$^n$ elements which respresent $\\ket{111...111}$ for first 2$^n-$1 elements value will be and for the last one element value will be 1."
   ]
  },
  {
   "cell_type": "markdown",
   "id": "60068b1e",
   "metadata": {},
   "source": [
    "$\\ket{0}$ is:"
   ]
  },
  {
   "cell_type": "code",
   "execution_count": 155,
   "id": "b949e9d4",
   "metadata": {},
   "outputs": [
    {
     "data": {
      "text/latex": [
       "$\\displaystyle \\left[\\begin{matrix}1\\\\0\\end{matrix}\\right]$"
      ],
      "text/plain": [
       "Matrix([\n",
       "[1],\n",
       "[0]])"
      ]
     },
     "execution_count": 155,
     "metadata": {},
     "output_type": "execute_result"
    }
   ],
   "source": [
    "zero"
   ]
  },
  {
   "cell_type": "markdown",
   "id": "e66c37f8",
   "metadata": {},
   "source": [
    "$\\ket{00}$ is:"
   ]
  },
  {
   "cell_type": "code",
   "execution_count": 156,
   "id": "04da7461",
   "metadata": {},
   "outputs": [
    {
     "data": {
      "text/latex": [
       "$\\displaystyle \\left[\\begin{matrix}1\\\\0\\\\0\\\\0\\end{matrix}\\right]$"
      ],
      "text/plain": [
       "Matrix([\n",
       "[1],\n",
       "[0],\n",
       "[0],\n",
       "[0]])"
      ]
     },
     "execution_count": 156,
     "metadata": {},
     "output_type": "execute_result"
    }
   ],
   "source": [
    "zero2"
   ]
  },
  {
   "cell_type": "markdown",
   "id": "76031c6e",
   "metadata": {},
   "source": [
    "$\\ket{000}$ is:"
   ]
  },
  {
   "cell_type": "code",
   "execution_count": 158,
   "id": "e3a0ee61",
   "metadata": {},
   "outputs": [
    {
     "data": {
      "text/latex": [
       "$\\displaystyle \\left[\\begin{matrix}1\\\\0\\\\0\\\\0\\\\0\\\\0\\\\0\\\\0\\end{matrix}\\right]$"
      ],
      "text/plain": [
       "Matrix([\n",
       "[1],\n",
       "[0],\n",
       "[0],\n",
       "[0],\n",
       "[0],\n",
       "[0],\n",
       "[0],\n",
       "[0]])"
      ]
     },
     "execution_count": 158,
     "metadata": {},
     "output_type": "execute_result"
    }
   ],
   "source": [
    "zero3"
   ]
  },
  {
   "cell_type": "markdown",
   "id": "0fec12f7",
   "metadata": {},
   "source": [
    "On that same way one can realised that in every case all values of a vector except first one are equal to 0 and first one value is equel to 1. One can assume that in every case as $\\ket{00000...000}$ for firs element value will be 1 and for the last 2$^2-1$ elements value will be 0."
   ]
  },
  {
   "cell_type": "markdown",
   "id": "394ac094",
   "metadata": {},
   "source": [
    " Those of you more experienced, would ask why not use numpy? well the answer is we generally want to perform symbolic computations meaning keeping parameters as symbols not numbers, but in this case there were no parameters, so yes, numpy would be a better option, the usage is pretty similar and sympy objects are usually transformed to numpy when you want numerics, so we'll just repeat the process here\n",
    " \n",
    " **PD:** you may want to master numpy, many resources are available you may try [these exercises](https://www.codewars.com/collections/numpy-1) "
   ]
  },
  {
   "cell_type": "code",
   "execution_count": 160,
   "id": "eab83da1",
   "metadata": {},
   "outputs": [],
   "source": [
    "import numpy as np # importing the numpy library"
   ]
  },
  {
   "cell_type": "markdown",
   "id": "c269ceb3",
   "metadata": {},
   "source": [
    "Numpy matrices are defined through arrays as a list of list in the same way sympy matrices are defined:"
   ]
  },
  {
   "cell_type": "code",
   "execution_count": 161,
   "id": "a753588c",
   "metadata": {},
   "outputs": [],
   "source": [
    "sy_np=np.array([[0,-1j],[1j,0]]) # We use 1j instead of I because I is a sympy simbol, while 1j is the imaginary unit in standard python"
   ]
  },
  {
   "cell_type": "markdown",
   "id": "1ab1527f",
   "metadata": {},
   "source": [
    "Alternatively we may conver a sympy matrix to numpy by \n",
    "\n",
    "np.array(A.tolist()).astype(np.complex128)\n",
    "\n",
    "where A is our sympy matrix"
   ]
  },
  {
   "cell_type": "code",
   "execution_count": 162,
   "id": "02b65d20",
   "metadata": {},
   "outputs": [
    {
     "data": {
      "text/plain": [
       "array([[0.+0.j, 0.-1.j],\n",
       "       [0.+1.j, 0.+0.j]])"
      ]
     },
     "execution_count": 162,
     "metadata": {},
     "output_type": "execute_result"
    }
   ],
   "source": [
    "np.array(sy.tolist()).astype(np.complex128)"
   ]
  },
  {
   "cell_type": "code",
   "execution_count": 163,
   "id": "4c64e19f",
   "metadata": {},
   "outputs": [],
   "source": [
    "zero_np=np.array(zero.tolist()).astype(np.complex128)\n",
    "one_np=np.array(one.tolist()).astype(np.complex128)\n",
    "ghz_np=np.array(ghz_matrix.tolist()).astype(np.complex128)"
   ]
  },
  {
   "cell_type": "markdown",
   "id": "1924a747",
   "metadata": {},
   "source": [
    "In numpy the kronecker product is defined as kron, so to do it we simply use np.kron"
   ]
  },
  {
   "cell_type": "code",
   "execution_count": 164,
   "id": "48292c17",
   "metadata": {},
   "outputs": [],
   "source": [
    "sy3_np=np.kron(np.kron(sy_np,sy_np),sy_np)"
   ]
  },
  {
   "cell_type": "markdown",
   "id": "40b19938",
   "metadata": {},
   "source": [
    "One may finally do the matrix multiplication, remember that Dagger means conjugate transpose, in numpy it can be implemented by the methods conj() and T"
   ]
  },
  {
   "cell_type": "code",
   "execution_count": 165,
   "id": "fd6ecdd4",
   "metadata": {},
   "outputs": [
    {
     "data": {
      "text/plain": [
       "array([[ 0.+0.j ,  0.+0.j ,  0.+0.j ,  0.+0.j ,  0.+0.j ,  0.+0.j ,\n",
       "         0.+0.j ,  0.+0.5j],\n",
       "       [ 0.+0.j ,  0.+0.j ,  0.+0.j ,  0.+0.j ,  0.+0.j ,  0.+0.j ,\n",
       "        -0.+0.j ,  0.+0.j ],\n",
       "       [ 0.+0.j ,  0.+0.j ,  0.+0.j ,  0.+0.j ,  0.+0.j , -0.+0.j ,\n",
       "         0.+0.j ,  0.+0.j ],\n",
       "       [ 0.+0.j ,  0.+0.j ,  0.+0.j ,  0.+0.j ,  0.+0.j ,  0.+0.j ,\n",
       "         0.+0.j ,  0.+0.j ],\n",
       "       [ 0.+0.j ,  0.+0.j ,  0.+0.j , -0.+0.j ,  0.+0.j ,  0.+0.j ,\n",
       "         0.+0.j ,  0.+0.j ],\n",
       "       [ 0.+0.j ,  0.+0.j ,  0.+0.j ,  0.+0.j ,  0.+0.j ,  0.+0.j ,\n",
       "         0.+0.j ,  0.+0.j ],\n",
       "       [ 0.+0.j ,  0.+0.j ,  0.+0.j ,  0.+0.j ,  0.+0.j ,  0.+0.j ,\n",
       "         0.+0.j ,  0.+0.j ],\n",
       "       [ 0.-0.5j,  0.+0.j ,  0.+0.j ,  0.+0.j ,  0.+0.j ,  0.+0.j ,\n",
       "         0.+0.j ,  0.+0.j ]])"
      ]
     },
     "execution_count": 165,
     "metadata": {},
     "output_type": "execute_result"
    }
   ],
   "source": [
    "ghz_np.conj().T*sy3_np*ghz_np"
   ]
  },
  {
   "cell_type": "markdown",
   "id": "89fc5cf8",
   "metadata": {},
   "source": [
    "Well this is clearly not zero, what went wrong? well it's because in numpy * is element wise multiplication (can do [broadcasting as well](https://numpy.org/doc/stable/user/basics.broadcasting.html) ), to do matrix multiplication The @ operator is used"
   ]
  },
  {
   "cell_type": "code",
   "execution_count": 166,
   "id": "9baa7963",
   "metadata": {},
   "outputs": [
    {
     "data": {
      "text/plain": [
       "array([[0.+0.j]])"
      ]
     },
     "execution_count": 166,
     "metadata": {},
     "output_type": "execute_result"
    }
   ],
   "source": [
    "ghz_np.conj().T@sy3_np@ghz_np"
   ]
  },
  {
   "cell_type": "markdown",
   "id": "9b87863c",
   "metadata": {},
   "source": [
    "We again get the same result, both results in no time, but I previously said numpy is faster so let us benchmark this using the %timeit magic"
   ]
  },
  {
   "cell_type": "code",
   "execution_count": 167,
   "id": "8e85e8ce",
   "metadata": {},
   "outputs": [
    {
     "name": "stdout",
     "output_type": "stream",
     "text": [
      "2.87 µs ± 25.1 ns per loop (mean ± std. dev. of 7 runs, 100000 loops each)\n"
     ]
    }
   ],
   "source": [
    "%timeit ghz_np.conj().T@sy3_np@ghz_np #numpy time"
   ]
  },
  {
   "cell_type": "code",
   "execution_count": 168,
   "id": "770cc4e3",
   "metadata": {},
   "outputs": [
    {
     "name": "stdout",
     "output_type": "stream",
     "text": [
      "83.7 µs ± 432 ns per loop (mean ± std. dev. of 7 runs, 10000 loops each)\n"
     ]
    }
   ],
   "source": [
    "%timeit Dagger(ghz)*(sy3)*ghz #sympy time"
   ]
  },
  {
   "cell_type": "code",
   "execution_count": 169,
   "id": "50796858",
   "metadata": {},
   "outputs": [
    {
     "name": "stdout",
     "output_type": "stream",
     "text": [
      "3.01 ms ± 13.5 µs per loop (mean ± std. dev. of 7 runs, 100 loops each)\n"
     ]
    }
   ],
   "source": [
    "%timeit qapply((Dagger(ghz)*Y(0)*Y(1)*Y(2)*ghz).expand()).doit()"
   ]
  },
  {
   "cell_type": "markdown",
   "id": "01035290",
   "metadata": {},
   "source": [
    "if we increase the number of qubits to let's say 12 then"
   ]
  },
  {
   "cell_type": "code",
   "execution_count": 170,
   "id": "5735c482",
   "metadata": {},
   "outputs": [],
   "source": [
    "n=12"
   ]
  },
  {
   "cell_type": "code",
   "execution_count": 171,
   "id": "a1e0e122",
   "metadata": {},
   "outputs": [],
   "source": [
    "ghz_20=(Qubit('0'*n)+Qubit('1'*n))/sqrt(2)"
   ]
  },
  {
   "cell_type": "code",
   "execution_count": 172,
   "id": "215b911e",
   "metadata": {},
   "outputs": [
    {
     "name": "stdout",
     "output_type": "stream",
     "text": [
      "19.3 ms ± 242 µs per loop (mean ± std. dev. of 7 runs, 100 loops each)\n"
     ]
    }
   ],
   "source": [
    "%timeit qapply(Dagger(ghz_20)*prod([Y(i) for i in range(0,n)])*ghz_20)"
   ]
  },
  {
   "cell_type": "code",
   "execution_count": 173,
   "id": "f7c89d69",
   "metadata": {},
   "outputs": [],
   "source": [
    "zero_20=np.array([1]+[0]*(2**n -1))\n",
    "one_20=np.array([0]*(2**n -1)+[1])"
   ]
  },
  {
   "cell_type": "code",
   "execution_count": 175,
   "id": "05395263",
   "metadata": {},
   "outputs": [],
   "source": [
    "new=sy_np\n",
    "for i in range(n-1):\n",
    "    new=np.kron(sy_np,new)"
   ]
  },
  {
   "cell_type": "code",
   "execution_count": 176,
   "id": "04ee7d07",
   "metadata": {},
   "outputs": [],
   "source": [
    "ghz_20_np=(zero_20 +one_20)/np.sqrt(2)"
   ]
  },
  {
   "cell_type": "code",
   "execution_count": 177,
   "id": "26291a4c",
   "metadata": {},
   "outputs": [
    {
     "name": "stdout",
     "output_type": "stream",
     "text": [
      "10.7 ms ± 657 µs per loop (mean ± std. dev. of 7 runs, 100 loops each)\n"
     ]
    }
   ],
   "source": [
    "%timeit ghz_20_np.conj().T@new@ghz_20_np.T"
   ]
  },
  {
   "cell_type": "code",
   "execution_count": 178,
   "id": "7be4ef92",
   "metadata": {},
   "outputs": [
    {
     "name": "stdout",
     "output_type": "stream",
     "text": [
      "182 ms ± 4.25 ms per loop (mean ± std. dev. of 7 runs, 10 loops each)\n"
     ]
    }
   ],
   "source": [
    "%%timeit\n",
    "new=sy_np\n",
    "for i in range(n-1):\n",
    "    new=np.kron(sy_np,new)\n",
    "ghz_20_np.conj().T@new@ghz_20_np.T"
   ]
  },
  {
   "cell_type": "markdown",
   "id": "c3789e8a",
   "metadata": {},
   "source": [
    "and of course as the matrix dimension goes up this time difference becomes more and more important"
   ]
  },
  {
   "cell_type": "markdown",
   "id": "8b825f1c",
   "metadata": {},
   "source": [
    "# 2.- Density matrices\n",
    "\n",
    "In quantum mechanics the symbol $\\rho$ usually refers to the density matrix, which has the following properties:\n",
    "\n",
    "- $Tr(\\rho)=1$\n",
    "- $Tr(\\rho^{2})\\leq 1$\n",
    "- $Eigvals > 0$\n",
    "- Pure if eigvals are (n-1) 0s, and 1 one\n",
    "\n",
    "Using this knowlegde and your computer linear algebra skill, solve the next excercise\n",
    "\n",
    "Consider the density matrix for a bell state\n",
    "\n",
    "\\begin{equation}\n",
    "\\rho= r \\ket{\\Phi^{+}}\\bra{\\Phi^{+}} + (1-r) \\ket{00} \\bra{00}\n",
    "\\end{equation}\n",
    "\n",
    "Where $\\ket{\\Phi^{+}}$ is the bell state: \n",
    "\n",
    "\\begin{equation}\n",
    "\\ket{\\Phi^{+}}= \\frac{1}{\\sqrt{2}} \\left( \\ket{00}+ \\ket{11} \\right) \n",
    "\\end{equation}\n",
    "\n",
    "\\begin{itemize}\n",
    "\\item Is $\\rho$ a valid density matrix? under which constraints?\n",
    "\n",
    "\\item If so is it a pure or mixed state?\n",
    "\n"
   ]
  },
  {
   "cell_type": "code",
   "execution_count": 179,
   "id": "ceb98833",
   "metadata": {},
   "outputs": [
    {
     "data": {
      "text/latex": [
       "$\\displaystyle \\frac{\\sqrt{2} \\left({\\left|00\\right\\rangle } + {\\left|11\\right\\rangle }\\right)}{2}$"
      ],
      "text/plain": [
       "sqrt(2)*(|00> + |11>)/2"
      ]
     },
     "execution_count": 179,
     "metadata": {},
     "output_type": "execute_result"
    }
   ],
   "source": [
    "bell=(Qubit('00')+Qubit('11'))/sqrt(2)\n",
    "bell"
   ]
  },
  {
   "cell_type": "code",
   "execution_count": 180,
   "id": "2eeb20fd",
   "metadata": {},
   "outputs": [
    {
     "data": {
      "text/latex": [
       "$\\displaystyle r$"
      ],
      "text/plain": [
       "r"
      ]
     },
     "execution_count": 180,
     "metadata": {},
     "output_type": "execute_result"
    }
   ],
   "source": [
    "r=symbols('r',real=True)\n",
    "r"
   ]
  },
  {
   "cell_type": "code",
   "execution_count": 181,
   "id": "87a2af7b",
   "metadata": {},
   "outputs": [
    {
     "data": {
      "text/latex": [
       "$\\displaystyle \\frac{r \\left({\\left|00\\right\\rangle } + {\\left|11\\right\\rangle }\\right) \\left({\\left\\langle 00\\right|} + {\\left\\langle 11\\right|}\\right)}{2} + \\left(1 - r\\right) {\\left|00\\right\\rangle } {\\left\\langle 00\\right|}$"
      ],
      "text/plain": [
       "r*(|00> + |11>)*(<00| + <11|)/2 + (1 - r)*|00>*<00|"
      ]
     },
     "execution_count": 181,
     "metadata": {},
     "output_type": "execute_result"
    }
   ],
   "source": [
    "rho=r*bell*Dagger(bell) +(1-r)*Qubit('00')*Dagger(Qubit('00'))\n",
    "rho"
   ]
  },
  {
   "cell_type": "code",
   "execution_count": 182,
   "id": "37e3280c",
   "metadata": {},
   "outputs": [
    {
     "data": {
      "text/latex": [
       "$\\displaystyle \\left[\\begin{matrix}1 - \\frac{r}{2} & 0 & 0 & \\frac{r}{2}\\\\0 & 0 & 0 & 0\\\\0 & 0 & 0 & 0\\\\\\frac{r}{2} & 0 & 0 & \\frac{r}{2}\\end{matrix}\\right]$"
      ],
      "text/plain": [
       "Matrix([\n",
       "[1 - r/2, 0, 0, r/2],\n",
       "[      0, 0, 0,   0],\n",
       "[      0, 0, 0,   0],\n",
       "[    r/2, 0, 0, r/2]])"
      ]
     },
     "execution_count": 182,
     "metadata": {},
     "output_type": "execute_result"
    }
   ],
   "source": [
    "R=represent(rho.expand())\n",
    "R"
   ]
  },
  {
   "cell_type": "code",
   "execution_count": 183,
   "id": "a57b75c1-e5b5-4f3d-bbb4-39ba47573e7f",
   "metadata": {},
   "outputs": [
    {
     "data": {
      "text/latex": [
       "$\\displaystyle 1$"
      ],
      "text/plain": [
       "1"
      ]
     },
     "execution_count": 183,
     "metadata": {},
     "output_type": "execute_result"
    }
   ],
   "source": [
    "R.trace()"
   ]
  },
  {
   "cell_type": "code",
   "execution_count": 184,
   "id": "8dc3070b",
   "metadata": {},
   "outputs": [
    {
     "data": {
      "text/plain": [
       "{1/2 - sqrt(2*r**2 - 2*r + 1)/2: 1, sqrt(2*r**2 - 2*r + 1)/2 + 1/2: 1, 0: 2}"
      ]
     },
     "execution_count": 184,
     "metadata": {},
     "output_type": "execute_result"
    }
   ],
   "source": [
    "R.eigenvals()"
   ]
  },
  {
   "cell_type": "markdown",
   "id": "46b46920",
   "metadata": {},
   "source": [
    "not quite readable so we rearrange it"
   ]
  },
  {
   "cell_type": "code",
   "execution_count": 185,
   "id": "606a8a9b",
   "metadata": {},
   "outputs": [
    {
     "data": {
      "text/latex": [
       "$\\displaystyle \\frac{1}{2} - \\frac{\\sqrt{2 r^{2} - 2 r + 1}}{2}$"
      ],
      "text/plain": [
       "1/2 - sqrt(2*r**2 - 2*r + 1)/2"
      ]
     },
     "execution_count": 185,
     "metadata": {},
     "output_type": "execute_result"
    }
   ],
   "source": [
    "T=list(R.eigenvals().keys())\n",
    "T[0]"
   ]
  },
  {
   "cell_type": "code",
   "execution_count": 186,
   "id": "6b94c4ca",
   "metadata": {},
   "outputs": [
    {
     "data": {
      "text/latex": [
       "$\\displaystyle \\frac{\\sqrt{2 r^{2} - 2 r + 1}}{2} + \\frac{1}{2}$"
      ],
      "text/plain": [
       "sqrt(2*r**2 - 2*r + 1)/2 + 1/2"
      ]
     },
     "execution_count": 186,
     "metadata": {},
     "output_type": "execute_result"
    }
   ],
   "source": [
    "T[1]"
   ]
  },
  {
   "cell_type": "code",
   "execution_count": 187,
   "id": "c3127851",
   "metadata": {},
   "outputs": [],
   "source": [
    "import matplotlib.pyplot as plt"
   ]
  },
  {
   "cell_type": "code",
   "execution_count": 188,
   "id": "52534acc",
   "metadata": {},
   "outputs": [],
   "source": [
    "eig1=lambdify(r,T[1])\n",
    "eig2=lambdify(r,T[0])\n",
    "rr=np.linspace(0,2,100)"
   ]
  },
  {
   "cell_type": "code",
   "execution_count": 189,
   "id": "7872517e",
   "metadata": {},
   "outputs": [
    {
     "data": {
      "image/png": "[encoded data removed]",
      "text/plain": [
       "<Figure size 640x480 with 1 Axes>"
      ]
     },
     "metadata": {},
     "output_type": "display_data"
    }
   ],
   "source": [
    "plt.plot(rr,eig1(rr))\n",
    "plt.plot(rr,eig2(rr))\n",
    "plt.ylim(0,2)\n",
    "plt.show()"
   ]
  },
  {
   "cell_type": "code",
   "execution_count": 190,
   "id": "7909b3c6-e6a3-4bd5-b968-920d3fdc2fea",
   "metadata": {},
   "outputs": [
    {
     "data": {
      "text/latex": [
       "$\\displaystyle r^{2} - r + 1$"
      ],
      "text/plain": [
       "r**2 - r + 1"
      ]
     },
     "execution_count": 190,
     "metadata": {},
     "output_type": "execute_result"
    }
   ],
   "source": [
    "Var5=(R*R).expand()\n",
    "Var5.trace()"
   ]
  },
  {
   "cell_type": "code",
   "execution_count": 191,
   "id": "2f31f294",
   "metadata": {},
   "outputs": [],
   "source": [
    "purity=lambdify(r,Var5.trace())"
   ]
  },
  {
   "cell_type": "code",
   "execution_count": 192,
   "id": "02209752",
   "metadata": {},
   "outputs": [
    {
     "data": {
      "image/png": "[encoded data removed]",
      "text/plain": [
       "<Figure size 640x480 with 1 Axes>"
      ]
     },
     "metadata": {},
     "output_type": "display_data"
    }
   ],
   "source": [
    "plt.plot(rr,purity(rr))\n",
    "plt.xlim(0,1)\n",
    "plt.ylim(0.75,1)\n",
    "plt.show()"
   ]
  },
  {
   "cell_type": "code",
   "execution_count": 193,
   "id": "a52b0898-dc18-46c5-9369-7bc43a3b6816",
   "metadata": {},
   "outputs": [],
   "source": [
    "U=Matrix([[1/2,0,0,0],[0,0,0,0],[0,0,0,0],[0,0,0,1/2]])"
   ]
  },
  {
   "cell_type": "code",
   "execution_count": 194,
   "id": "53220541-c040-4266-8e72-51932ef7bbf0",
   "metadata": {},
   "outputs": [],
   "source": [
    "X=((R-U)**2).expand()"
   ]
  },
  {
   "cell_type": "code",
   "execution_count": 195,
   "id": "0cf5b7b2-91c6-4fca-afc8-0f4b9acfb375",
   "metadata": {},
   "outputs": [],
   "source": [
    "distance=lambdify(r,(X**(1/2)).trace().simplify().factor())"
   ]
  },
  {
   "cell_type": "code",
   "execution_count": 196,
   "id": "6ee47c1b",
   "metadata": {},
   "outputs": [
    {
     "data": {
      "image/png": "[encoded data removed]",
      "text/plain": [
       "<Figure size 640x480 with 1 Axes>"
      ]
     },
     "metadata": {},
     "output_type": "display_data"
    }
   ],
   "source": [
    "plt.plot(rr,distance(rr))\n",
    "plt.xlim(0,1)\n",
    "plt.ylim(0.5,1)\n",
    "plt.show()"
   ]
  }
 ],
 "metadata": {
  "kernelspec": {
   "display_name": "Python 3 (ipykernel)",
   "language": "python",
   "name": "python3"
  },
  "language_info": {
   "codemirror_mode": {
    "name": "ipython",
    "version": 3
   },
   "file_extension": ".py",
   "mimetype": "text/x-python",
   "name": "python",
   "nbconvert_exporter": "python",
   "pygments_lexer": "ipython3",
   "version": "3.9.7"
  }
 },
 "nbformat": 4,
 "nbformat_minor": 5
}
