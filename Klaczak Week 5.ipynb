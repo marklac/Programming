{
 "cells": [
  {
   "cell_type": "markdown",
   "id": "59538c54",
   "metadata": {},
   "source": [
    "## Density matrices and Krauss operators"
   ]
  },
  {
   "cell_type": "code",
   "execution_count": 113,
   "id": "6717f16c",
   "metadata": {},
   "outputs": [],
   "source": [
    "from sympy import *\n",
    "from sympy.physics.quantum.qubit import Qubit,matrix_to_qubit,represent,matrix_to_density\n",
    "from sympy.physics.quantum import TensorProduct,Dagger"
   ]
  },
  {
   "cell_type": "code",
   "execution_count": 114,
   "id": "6d3418be",
   "metadata": {},
   "outputs": [],
   "source": [
    "r=symbols('r_{x} r_{y} r_{z}',real=True)\n",
    "p, theta, rho, Ɛ=symbols('p theta rho Ɛ')"
   ]
  },
  {
   "cell_type": "markdown",
   "id": "14de91e4",
   "metadata": {},
   "source": [
    "The qubit density matrix is usually express in terms of the pauli matrices as \n",
    "\n",
    "$\\rho=\\frac{\\mathcal{1}}{2}+ \\vec{r}. \\vec{\\sigma}$\n",
    "\n",
    "**Task** Define such a density matrix, and repeat the analysis from last lesson to see under which conditions it is valid, and pure"
   ]
  },
  {
   "cell_type": "markdown",
   "id": "a8fb8b09",
   "metadata": {},
   "source": [
    "We recently took a look at the amplitud damping channel\n",
    "\n",
    "\\begin{equation}\n",
    "E_{0}=\\begin{pmatrix}\n",
    "1 & 0 \\\\ 0 & \\sqrt{1-\\lambda}\n",
    "\\end{pmatrix}\n",
    "\\end{equation}\n",
    "\n",
    "\\begin{equation}\n",
    "E_{1}=\\begin{pmatrix}\n",
    "0 & \\sqrt{\\lambda}  \\\\ 0&0\n",
    "\\end{pmatrix}\n",
    "\\end{equation}\n",
    "\n",
    "**Task**:How does this map affect the qubit density matrix? use a for loop for the inner product or a vector of matrices (using symbols), and verify that $\\sum_{k}^{n}E_{k}^{\\dagger}E_{k}=\\mathcal{I}$"
   ]
  },
  {
   "cell_type": "code",
   "execution_count": 115,
   "id": "cfd94750",
   "metadata": {},
   "outputs": [],
   "source": [
    "X=Matrix([[0,1],[1,0]])\n",
    "Y=Matrix([[0,-I],[I,0]])\n",
    "Z=Matrix([[1,0],[0,-1]])\n",
    "λ=symbols('λ', real=True)\n",
    "E0=Matrix([[1,0],[0,sqrt(1-λ)]])\n",
    "E1=Matrix([[0,sqrt(λ)],[0,0]])\n"
   ]
  },
  {
   "cell_type": "code",
   "execution_count": 116,
   "id": "21995d33",
   "metadata": {},
   "outputs": [
    {
     "data": {
      "text/latex": [
       "$\\displaystyle \\left[\\begin{matrix}1 & 0\\\\0 & 1\\end{matrix}\\right]$"
      ],
      "text/plain": [
       "Matrix([\n",
       "[1, 0],\n",
       "[0, 1]])"
      ]
     },
     "execution_count": 116,
     "metadata": {},
     "output_type": "execute_result"
    }
   ],
   "source": [
    "(Dagger(E0)*E0+Dagger(E1)*E1).subs({conjugate(sqrt(λ)):sqrt(λ),conjugate(sqrt(1-λ)):sqrt(1-λ)}).expand()# Checking they satisfy it"
   ]
  },
  {
   "cell_type": "code",
   "execution_count": 117,
   "id": "260ccd32",
   "metadata": {},
   "outputs": [
    {
     "data": {
      "text/latex": [
       "$\\displaystyle \\left[\\begin{matrix}\\frac{r_{z}}{2} + \\frac{1}{2} & \\frac{r_{x}}{2} - \\frac{i r_{y}}{2}\\\\\\frac{r_{x}}{2} + \\frac{i r_{y}}{2} & \\frac{1}{2} - \\frac{r_{z}}{2}\\end{matrix}\\right]$"
      ],
      "text/plain": [
       "Matrix([\n",
       "[      r_{z}/2 + 1/2, r_{x}/2 - I*r_{y}/2],\n",
       "[r_{x}/2 + I*r_{y}/2,       1/2 - r_{z}/2]])"
      ]
     },
     "execution_count": 117,
     "metadata": {},
     "output_type": "execute_result"
    }
   ],
   "source": [
    "σ=[X,Y,Z]\n",
    "var=[r[i]*σ[i] for i in range(0,len(r))]\n",
    "P=(eye(2)/2)\n",
    "for i in var:\n",
    "    P+=i/2\n",
    "P"
   ]
  },
  {
   "cell_type": "code",
   "execution_count": 118,
   "id": "b2376fa8",
   "metadata": {},
   "outputs": [
    {
     "data": {
      "text/latex": [
       "$\\displaystyle \\left[\\begin{matrix}- \\frac{r_{z} λ}{2} + \\frac{r_{z}}{2} + \\frac{λ}{2} + \\frac{1}{2} & \\frac{r_{x} \\sqrt{1 - λ}}{2} - \\frac{i r_{y} \\sqrt{1 - λ}}{2}\\\\\\frac{r_{x} \\sqrt{1 - λ}}{2} + \\frac{i r_{y} \\sqrt{1 - λ}}{2} & \\frac{r_{z} λ}{2} - \\frac{r_{z}}{2} - \\frac{λ}{2} + \\frac{1}{2}\\end{matrix}\\right]$"
      ],
      "text/plain": [
       "Matrix([\n",
       "[           -r_{z}*λ/2 + r_{z}/2 + λ/2 + 1/2, r_{x}*sqrt(1 - λ)/2 - I*r_{y}*sqrt(1 - λ)/2],\n",
       "[r_{x}*sqrt(1 - λ)/2 + I*r_{y}*sqrt(1 - λ)/2,             r_{z}*λ/2 - r_{z}/2 - λ/2 + 1/2]])"
      ]
     },
     "execution_count": 118,
     "metadata": {},
     "output_type": "execute_result"
    }
   ],
   "source": [
    "var1=E0*P*Dagger(E0)+E1*P*Dagger(E1)\n",
    "var1=var1.subs({conjugate(sqrt(λ)):sqrt(λ),conjugate(sqrt(1-λ)):sqrt(1-λ)}).expand()\n",
    "var1"
   ]
  },
  {
   "cell_type": "markdown",
   "id": "21a077a6",
   "metadata": {},
   "source": [
    "We can see this map as a linear transformation from $\\vec{r}$ to $\\vec{r'}$\n",
    "\n",
    "$\\vec{r'}=A \\vec{r} + \\vec{b}$\n"
   ]
  },
  {
   "cell_type": "code",
   "execution_count": 119,
   "id": "d55a55d4",
   "metadata": {},
   "outputs": [],
   "source": [
    "linear_eqs=[(var1[0,1]+var1[1,0]),I*(var1[0,1]-var1[1,0]),2*(var1[0,0]-1/2)]"
   ]
  },
  {
   "cell_type": "code",
   "execution_count": 120,
   "id": "36fec9a6",
   "metadata": {},
   "outputs": [
    {
     "data": {
      "text/latex": [
       "$\\displaystyle r_{z}$"
      ],
      "text/plain": [
       "r_{z}"
      ]
     },
     "execution_count": 120,
     "metadata": {},
     "output_type": "execute_result"
    }
   ],
   "source": [
    "r[2]"
   ]
  },
  {
   "cell_type": "code",
   "execution_count": 121,
   "id": "a4e7d7b0",
   "metadata": {},
   "outputs": [],
   "source": [
    "A,b=linear_eq_to_matrix(linear_eqs,[r[0],r[1],r[2]])"
   ]
  },
  {
   "cell_type": "code",
   "execution_count": 122,
   "id": "153b8738",
   "metadata": {},
   "outputs": [
    {
     "data": {
      "text/latex": [
       "$\\displaystyle \\left[\\begin{matrix}r_{x} \\sqrt{1 - λ}\\\\r_{y} \\sqrt{1 - λ}\\\\- r_{z} λ + r_{z} + λ\\end{matrix}\\right]$"
      ],
      "text/plain": [
       "Matrix([\n",
       "[   r_{x}*sqrt(1 - λ)],\n",
       "[   r_{y}*sqrt(1 - λ)],\n",
       "[-r_{z}*λ + r_{z} + λ]])"
      ]
     },
     "execution_count": 122,
     "metadata": {},
     "output_type": "execute_result"
    }
   ],
   "source": [
    "(A*Matrix(list(r))-b).expand()"
   ]
  },
  {
   "cell_type": "code",
   "execution_count": 123,
   "id": "8a8cb4f8",
   "metadata": {},
   "outputs": [
    {
     "data": {
      "text/latex": [
       "$\\displaystyle \\left[\\begin{matrix}\\sqrt{1 - λ} & 0 & 0\\\\0 & \\sqrt{1 - λ} & 0\\\\0 & 0 & 1 - λ\\end{matrix}\\right]$"
      ],
      "text/plain": [
       "Matrix([\n",
       "[sqrt(1 - λ),           0,     0],\n",
       "[          0, sqrt(1 - λ),     0],\n",
       "[          0,           0, 1 - λ]])"
      ]
     },
     "execution_count": 123,
     "metadata": {},
     "output_type": "execute_result"
    }
   ],
   "source": [
    "A"
   ]
  },
  {
   "cell_type": "code",
   "execution_count": 124,
   "id": "bf56475e",
   "metadata": {},
   "outputs": [
    {
     "data": {
      "text/latex": [
       "$\\displaystyle \\left[\\begin{matrix}0\\\\0\\\\λ\\end{matrix}\\right]$"
      ],
      "text/plain": [
       "Matrix([\n",
       "[0],\n",
       "[0],\n",
       "[λ]])"
      ]
     },
     "execution_count": 124,
     "metadata": {},
     "output_type": "execute_result"
    }
   ],
   "source": [
    "-b"
   ]
  },
  {
   "cell_type": "markdown",
   "id": "3aa68883",
   "metadata": {},
   "source": [
    "So to visualize the effect of the amplitude damping channel we just need to modify the coordinates acording to\n",
    "\n",
    "$$r_{x}'=\\sqrt{(1-\\lambda)} r_{x} \\\\\n",
    "r_{y}'=\\sqrt{(1-\\lambda)} r_{y} \\\\\n",
    "r_{z}'=(1-\\lambda) r_{z} + \\lambda $$\n",
    "\n",
    "When $\\lambda=0$ tehn we have the same coordinates and thus no transformation we have the unit sphere\n",
    "\n",
    "**Task** : Change the value of lambda and see how the map changes pure states, change lambda and r1 to see how it changes mixed states"
   ]
  },
  {
   "cell_type": "code",
   "execution_count": 125,
   "id": "e5e38add",
   "metadata": {},
   "outputs": [
    {
     "data": {
      "image/png": "[encoded data removed]",
      "text/plain": [
       "<Figure size 640x480 with 1 Axes>"
      ]
     },
     "metadata": {},
     "output_type": "display_data"
    }
   ],
   "source": [
    "%matplotlib inline\n",
    "import matplotlib.pyplot as plt\n",
    "import numpy as np\n",
    "fig=plt.figure()\n",
    "ax=fig.add_subplot(projection='3d')\n",
    "r1=2\n",
    "u,v=np.mgrid[0:2*np.pi:30j,0:np.pi:20j]\n",
    "lamda=0.5\n",
    "x=r1*np.sqrt(1-lamda)*np.cos(u)*np.sin(v)\n",
    "y=r1*np.sqrt(1-lamda)*np.sin(u)*np.sin(v)\n",
    "z=r1*(1-lamda)*np.cos(v)+lamda\n",
    "ax.plot_surface(x,y,z)\n",
    "ax.set_xlim(-1,1)\n",
    "ax.set_ylim(-1,1)\n",
    "ax.set_zlim(-1,1)\n",
    "plt.show()"
   ]
  },
  {
   "cell_type": "markdown",
   "id": "113d8b3e",
   "metadata": {},
   "source": [
    "# Task: Other Noise Channels\n",
    "\n",
    "\n",
    "In this task used what you have learned so far to see the effects of other noise channels on a qubit, and visualize their effects on pure states, In this exercise $\\sigma_{i}s$ denote the Pauli matrices\n",
    "\n",
    "\n",
    "1. The bit flip channel that is given by\n",
    "\n",
    "\\begin{equation}\n",
    "E_{0}= \\sqrt{p} \\mathcal{I}\n",
    "\\end{equation}\n",
    "\n",
    "\\begin{equation}\n",
    "E_{1}=\\sqrt{1-p} \\sigma_x\n",
    "\\end{equation}\n",
    "\n",
    "2. The Phase flip channel that is given by\n",
    "\n",
    "\\begin{equation}\n",
    "E_{0}= \\sqrt{p} \\mathcal{I}\n",
    "\\end{equation}\n",
    "\n",
    "\\begin{equation}\n",
    "E_{1}=\\sqrt{1-p} \\sigma_z\n",
    "\\end{equation}\n",
    "\n",
    "3. The bit phase-flip channel\n",
    "\n",
    "\\begin{equation}\n",
    "E_{0}= \\sqrt{p} \\mathcal{I}\n",
    "\\end{equation}\n",
    "\n",
    "\\begin{equation}\n",
    "E_{1}=\\sqrt{1-p} \\sigma_y\n",
    "\\end{equation}\n",
    "\n",
    "4. The depolarizing channel, The map has the form \n",
    "\n",
    "\\begin{equation}\n",
    "\\mathcal{E} (\\rho)=\\frac{p\\mathcal{I}}{2} + (1-p)\\rho\n",
    "\\end{equation}\n",
    "\n",
    "It can be represented in the operator sum representation in different ways, it can be implemented by different sum representations a convenient one is:\n",
    "\n",
    "\\begin{equation}\n",
    "\\mathcal{E} (\\rho)=\\frac{p}{3} (\\sigma_{x} \\rho \\sigma_{x} +\\sigma_{y} \\rho \\sigma_{y}+ \\sigma_{z} \\rho \\sigma_{z}) + (1-p)\\rho\n",
    "\\end{equation}\n",
    "\n",
    "When you are done, you will have done most of what [Nielsen and Chuang's](http://mmrc.amss.cas.cn/tlb/201702/W020170224608149940643.pdf) chapter 8 covers!"
   ]
  },
  {
   "cell_type": "markdown",
   "id": "0c8d8a9d",
   "metadata": {},
   "source": [
    "1. The bit flip channel that is given by\n",
    "\n",
    "\\begin{equation}\n",
    "E_{0}= \\sqrt{p} \\mathcal{I}\n",
    "\\end{equation}\n",
    "\n",
    "\\begin{equation}\n",
    "E_{1}=\\sqrt{1-p} \\sigma_x\n",
    "\\end{equation}"
   ]
  },
  {
   "cell_type": "code",
   "execution_count": 126,
   "id": "8f21065d",
   "metadata": {},
   "outputs": [
    {
     "data": {
      "text/latex": [
       "$\\displaystyle \\left[\\begin{matrix}p & 0\\\\0 & p\\end{matrix}\\right]$"
      ],
      "text/plain": [
       "Matrix([\n",
       "[p, 0],\n",
       "[0, p]])"
      ]
     },
     "execution_count": 126,
     "metadata": {},
     "output_type": "execute_result"
    }
   ],
   "source": [
    "E0=p*eye(2)\n",
    "E0"
   ]
  },
  {
   "cell_type": "code",
   "execution_count": 127,
   "id": "ffbd6539",
   "metadata": {},
   "outputs": [
    {
     "data": {
      "text/latex": [
       "$\\displaystyle \\left[\\begin{matrix}0 & \\sqrt{1 - p}\\\\\\sqrt{1 - p} & 0\\end{matrix}\\right]$"
      ],
      "text/plain": [
       "Matrix([\n",
       "[          0, sqrt(1 - p)],\n",
       "[sqrt(1 - p),           0]])"
      ]
     },
     "execution_count": 127,
     "metadata": {},
     "output_type": "execute_result"
    }
   ],
   "source": [
    "E1 = sqrt(1-p)*X\n",
    "E1"
   ]
  },
  {
   "cell_type": "code",
   "execution_count": 128,
   "id": "15cff9d1",
   "metadata": {},
   "outputs": [
    {
     "data": {
      "text/latex": [
       "$\\displaystyle \\left[\\begin{matrix}\\frac{p r_{z} \\overline{p}}{2} + \\frac{p \\overline{p}}{2} - \\frac{r_{z} \\sqrt{1 - p} \\overline{\\sqrt{1 - p}}}{2} + \\frac{\\sqrt{1 - p} \\overline{\\sqrt{1 - p}}}{2} & \\frac{p r_{x} \\overline{p}}{2} - \\frac{i p r_{y} \\overline{p}}{2} + \\frac{r_{x} \\sqrt{1 - p} \\overline{\\sqrt{1 - p}}}{2} + \\frac{i r_{y} \\sqrt{1 - p} \\overline{\\sqrt{1 - p}}}{2}\\\\\\frac{p r_{x} \\overline{p}}{2} + \\frac{i p r_{y} \\overline{p}}{2} + \\frac{r_{x} \\sqrt{1 - p} \\overline{\\sqrt{1 - p}}}{2} - \\frac{i r_{y} \\sqrt{1 - p} \\overline{\\sqrt{1 - p}}}{2} & - \\frac{p r_{z} \\overline{p}}{2} + \\frac{p \\overline{p}}{2} + \\frac{r_{z} \\sqrt{1 - p} \\overline{\\sqrt{1 - p}}}{2} + \\frac{\\sqrt{1 - p} \\overline{\\sqrt{1 - p}}}{2}\\end{matrix}\\right]$"
      ],
      "text/plain": [
       "Matrix([\n",
       "[                p*r_{z}*conjugate(p)/2 + p*conjugate(p)/2 - r_{z}*sqrt(1 - p)*conjugate(sqrt(1 - p))/2 + sqrt(1 - p)*conjugate(sqrt(1 - p))/2, p*r_{x}*conjugate(p)/2 - I*p*r_{y}*conjugate(p)/2 + r_{x}*sqrt(1 - p)*conjugate(sqrt(1 - p))/2 + I*r_{y}*sqrt(1 - p)*conjugate(sqrt(1 - p))/2],\n",
       "[p*r_{x}*conjugate(p)/2 + I*p*r_{y}*conjugate(p)/2 + r_{x}*sqrt(1 - p)*conjugate(sqrt(1 - p))/2 - I*r_{y}*sqrt(1 - p)*conjugate(sqrt(1 - p))/2,                -p*r_{z}*conjugate(p)/2 + p*conjugate(p)/2 + r_{z}*sqrt(1 - p)*conjugate(sqrt(1 - p))/2 + sqrt(1 - p)*conjugate(sqrt(1 - p))/2]])"
      ]
     },
     "execution_count": 128,
     "metadata": {},
     "output_type": "execute_result"
    }
   ],
   "source": [
    "var2=E0*P*Dagger(E0)+E1*P*Dagger(E1)\n",
    "var2=var2.subs({conjugate(sqrt(λ)):sqrt(λ),conjugate(sqrt(1-λ)):sqrt(1-λ)}).expand()\n",
    "var2"
   ]
  },
  {
   "cell_type": "code",
   "execution_count": 129,
   "id": "bb0f15b4",
   "metadata": {},
   "outputs": [
    {
     "data": {
      "text/latex": [
       "$\\displaystyle \\left[\\begin{matrix}p r_{x} \\overline{p} + r_{x} \\sqrt{1 - p} \\overline{\\sqrt{1 - p}}\\\\p r_{y} \\overline{p} - r_{y} \\sqrt{1 - p} \\overline{\\sqrt{1 - p}}\\\\p r_{z} \\overline{p} + p \\overline{p} - r_{z} \\sqrt{1 - p} \\overline{\\sqrt{1 - p}} + \\sqrt{1 - p} \\overline{\\sqrt{1 - p}} - 1.0\\end{matrix}\\right]$"
      ],
      "text/plain": [
       "Matrix([\n",
       "[                                                            p*r_{x}*conjugate(p) + r_{x}*sqrt(1 - p)*conjugate(sqrt(1 - p))],\n",
       "[                                                            p*r_{y}*conjugate(p) - r_{y}*sqrt(1 - p)*conjugate(sqrt(1 - p))],\n",
       "[p*r_{z}*conjugate(p) + p*conjugate(p) - r_{z}*sqrt(1 - p)*conjugate(sqrt(1 - p)) + sqrt(1 - p)*conjugate(sqrt(1 - p)) - 1.0]])"
      ]
     },
     "execution_count": 129,
     "metadata": {},
     "output_type": "execute_result"
    }
   ],
   "source": [
    "linear_eqs=[(var2[0,1]+var2[1,0]),I*(var2[0,1]-var2[1,0]),2*(var2[0,0]-1/2)]\n",
    "A,b=linear_eq_to_matrix(linear_eqs,[r[0],r[1],r[2]])\n",
    "(A*Matrix(list(r))-b).expand()"
   ]
  },
  {
   "cell_type": "code",
   "execution_count": 130,
   "id": "583487f8",
   "metadata": {},
   "outputs": [
    {
     "data": {
      "text/latex": [
       "$\\displaystyle \\left[\\begin{matrix}p \\overline{p} + \\sqrt{1 - p} \\overline{\\sqrt{1 - p}} & 0 & 0\\\\0 & i \\left(- i p \\overline{p} + i \\sqrt{1 - p} \\overline{\\sqrt{1 - p}}\\right) & 0\\\\0 & 0 & p \\overline{p} - \\sqrt{1 - p} \\overline{\\sqrt{1 - p}}\\end{matrix}\\right]$"
      ],
      "text/plain": [
       "Matrix([\n",
       "[p*conjugate(p) + sqrt(1 - p)*conjugate(sqrt(1 - p)),                                                            0,                                                   0],\n",
       "[                                                  0, I*(-I*p*conjugate(p) + I*sqrt(1 - p)*conjugate(sqrt(1 - p))),                                                   0],\n",
       "[                                                  0,                                                            0, p*conjugate(p) - sqrt(1 - p)*conjugate(sqrt(1 - p))]])"
      ]
     },
     "execution_count": 130,
     "metadata": {},
     "output_type": "execute_result"
    }
   ],
   "source": [
    "A"
   ]
  },
  {
   "cell_type": "code",
   "execution_count": 131,
   "id": "88646784",
   "metadata": {},
   "outputs": [
    {
     "data": {
      "text/latex": [
       "$\\displaystyle \\left[\\begin{matrix}0\\\\0\\\\p \\overline{p} + \\sqrt{1 - p} \\overline{\\sqrt{1 - p}} - 1.0\\end{matrix}\\right]$"
      ],
      "text/plain": [
       "Matrix([\n",
       "[                                                        0],\n",
       "[                                                        0],\n",
       "[p*conjugate(p) + sqrt(1 - p)*conjugate(sqrt(1 - p)) - 1.0]])"
      ]
     },
     "execution_count": 131,
     "metadata": {},
     "output_type": "execute_result"
    }
   ],
   "source": [
    "-b"
   ]
  },
  {
   "cell_type": "markdown",
   "id": "c138bfe1",
   "metadata": {},
   "source": [
    "2. The Phase flip channel that is given by\n",
    "\n",
    "\\begin{equation}\n",
    "E_{0}= \\sqrt{p} \\mathcal{I}\n",
    "\\end{equation}\n",
    "\n",
    "\\begin{equation}\n",
    "E_{1}=\\sqrt{1-p} \\sigma_z\n",
    "\\end{equation}"
   ]
  },
  {
   "cell_type": "code",
   "execution_count": 132,
   "id": "b70b0fe1",
   "metadata": {},
   "outputs": [
    {
     "data": {
      "text/latex": [
       "$\\displaystyle \\left[\\begin{matrix}p & 0\\\\0 & p\\end{matrix}\\right]$"
      ],
      "text/plain": [
       "Matrix([\n",
       "[p, 0],\n",
       "[0, p]])"
      ]
     },
     "execution_count": 132,
     "metadata": {},
     "output_type": "execute_result"
    }
   ],
   "source": [
    "E0=p*eye(2)\n",
    "E0"
   ]
  },
  {
   "cell_type": "code",
   "execution_count": 133,
   "id": "03931ee9",
   "metadata": {},
   "outputs": [
    {
     "data": {
      "text/latex": [
       "$\\displaystyle \\left[\\begin{matrix}\\sqrt{1 - p} & 0\\\\0 & - \\sqrt{1 - p}\\end{matrix}\\right]$"
      ],
      "text/plain": [
       "Matrix([\n",
       "[sqrt(1 - p),            0],\n",
       "[          0, -sqrt(1 - p)]])"
      ]
     },
     "execution_count": 133,
     "metadata": {},
     "output_type": "execute_result"
    }
   ],
   "source": [
    "E1 = sqrt(1-p)*Z\n",
    "E1"
   ]
  },
  {
   "cell_type": "code",
   "execution_count": 134,
   "id": "26702ddf",
   "metadata": {},
   "outputs": [
    {
     "data": {
      "text/latex": [
       "$\\displaystyle \\left[\\begin{matrix}\\frac{p r_{z} \\overline{p}}{2} + \\frac{p \\overline{p}}{2} + \\frac{r_{z} \\sqrt{1 - p} \\overline{\\sqrt{1 - p}}}{2} + \\frac{\\sqrt{1 - p} \\overline{\\sqrt{1 - p}}}{2} & \\frac{p r_{x} \\overline{p}}{2} - \\frac{i p r_{y} \\overline{p}}{2} - \\frac{r_{x} \\sqrt{1 - p} \\overline{\\sqrt{1 - p}}}{2} + \\frac{i r_{y} \\sqrt{1 - p} \\overline{\\sqrt{1 - p}}}{2}\\\\\\frac{p r_{x} \\overline{p}}{2} + \\frac{i p r_{y} \\overline{p}}{2} - \\frac{r_{x} \\sqrt{1 - p} \\overline{\\sqrt{1 - p}}}{2} - \\frac{i r_{y} \\sqrt{1 - p} \\overline{\\sqrt{1 - p}}}{2} & - \\frac{p r_{z} \\overline{p}}{2} + \\frac{p \\overline{p}}{2} - \\frac{r_{z} \\sqrt{1 - p} \\overline{\\sqrt{1 - p}}}{2} + \\frac{\\sqrt{1 - p} \\overline{\\sqrt{1 - p}}}{2}\\end{matrix}\\right]$"
      ],
      "text/plain": [
       "Matrix([\n",
       "[                p*r_{z}*conjugate(p)/2 + p*conjugate(p)/2 + r_{z}*sqrt(1 - p)*conjugate(sqrt(1 - p))/2 + sqrt(1 - p)*conjugate(sqrt(1 - p))/2, p*r_{x}*conjugate(p)/2 - I*p*r_{y}*conjugate(p)/2 - r_{x}*sqrt(1 - p)*conjugate(sqrt(1 - p))/2 + I*r_{y}*sqrt(1 - p)*conjugate(sqrt(1 - p))/2],\n",
       "[p*r_{x}*conjugate(p)/2 + I*p*r_{y}*conjugate(p)/2 - r_{x}*sqrt(1 - p)*conjugate(sqrt(1 - p))/2 - I*r_{y}*sqrt(1 - p)*conjugate(sqrt(1 - p))/2,                -p*r_{z}*conjugate(p)/2 + p*conjugate(p)/2 - r_{z}*sqrt(1 - p)*conjugate(sqrt(1 - p))/2 + sqrt(1 - p)*conjugate(sqrt(1 - p))/2]])"
      ]
     },
     "execution_count": 134,
     "metadata": {},
     "output_type": "execute_result"
    }
   ],
   "source": [
    "var3=E0*P*Dagger(E0)+E1*P*Dagger(E1)\n",
    "var3=var3.subs({conjugate(sqrt(λ)):sqrt(λ),conjugate(sqrt(1-λ)):sqrt(1-λ)}).expand()\n",
    "var3"
   ]
  },
  {
   "cell_type": "code",
   "execution_count": 135,
   "id": "95089e40",
   "metadata": {
    "scrolled": true
   },
   "outputs": [
    {
     "data": {
      "text/latex": [
       "$\\displaystyle \\left[\\begin{matrix}p r_{x} \\overline{p} - r_{x} \\sqrt{1 - p} \\overline{\\sqrt{1 - p}}\\\\p r_{y} \\overline{p} - r_{y} \\sqrt{1 - p} \\overline{\\sqrt{1 - p}}\\\\p r_{z} \\overline{p} + p \\overline{p} + r_{z} \\sqrt{1 - p} \\overline{\\sqrt{1 - p}} + \\sqrt{1 - p} \\overline{\\sqrt{1 - p}} - 1.0\\end{matrix}\\right]$"
      ],
      "text/plain": [
       "Matrix([\n",
       "[                                                            p*r_{x}*conjugate(p) - r_{x}*sqrt(1 - p)*conjugate(sqrt(1 - p))],\n",
       "[                                                            p*r_{y}*conjugate(p) - r_{y}*sqrt(1 - p)*conjugate(sqrt(1 - p))],\n",
       "[p*r_{z}*conjugate(p) + p*conjugate(p) + r_{z}*sqrt(1 - p)*conjugate(sqrt(1 - p)) + sqrt(1 - p)*conjugate(sqrt(1 - p)) - 1.0]])"
      ]
     },
     "execution_count": 135,
     "metadata": {},
     "output_type": "execute_result"
    }
   ],
   "source": [
    "linear_eqs=[(var3[0,1]+var3[1,0]),I*(var3[0,1]-var3[1,0]),2*(var3[0,0]-1/2)]\n",
    "A,b=linear_eq_to_matrix(linear_eqs,[r[0],r[1],r[2]])\n",
    "(A*Matrix(list(r))-b).expand()"
   ]
  },
  {
   "cell_type": "code",
   "execution_count": 136,
   "id": "d6536df8",
   "metadata": {},
   "outputs": [
    {
     "data": {
      "text/latex": [
       "$\\displaystyle \\left[\\begin{matrix}p \\overline{p} - \\sqrt{1 - p} \\overline{\\sqrt{1 - p}} & 0 & 0\\\\0 & i \\left(- i p \\overline{p} + i \\sqrt{1 - p} \\overline{\\sqrt{1 - p}}\\right) & 0\\\\0 & 0 & p \\overline{p} + \\sqrt{1 - p} \\overline{\\sqrt{1 - p}}\\end{matrix}\\right]$"
      ],
      "text/plain": [
       "Matrix([\n",
       "[p*conjugate(p) - sqrt(1 - p)*conjugate(sqrt(1 - p)),                                                            0,                                                   0],\n",
       "[                                                  0, I*(-I*p*conjugate(p) + I*sqrt(1 - p)*conjugate(sqrt(1 - p))),                                                   0],\n",
       "[                                                  0,                                                            0, p*conjugate(p) + sqrt(1 - p)*conjugate(sqrt(1 - p))]])"
      ]
     },
     "execution_count": 136,
     "metadata": {},
     "output_type": "execute_result"
    }
   ],
   "source": [
    "A"
   ]
  },
  {
   "cell_type": "code",
   "execution_count": 137,
   "id": "1c7a3d7d",
   "metadata": {},
   "outputs": [
    {
     "data": {
      "text/latex": [
       "$\\displaystyle \\left[\\begin{matrix}0\\\\0\\\\p \\overline{p} + \\sqrt{1 - p} \\overline{\\sqrt{1 - p}} - 1.0\\end{matrix}\\right]$"
      ],
      "text/plain": [
       "Matrix([\n",
       "[                                                        0],\n",
       "[                                                        0],\n",
       "[p*conjugate(p) + sqrt(1 - p)*conjugate(sqrt(1 - p)) - 1.0]])"
      ]
     },
     "execution_count": 137,
     "metadata": {},
     "output_type": "execute_result"
    }
   ],
   "source": [
    "-b"
   ]
  },
  {
   "cell_type": "markdown",
   "id": "ec79932f",
   "metadata": {},
   "source": [
    "3. The bit phase-flip channel\n",
    "\n",
    "\\begin{equation}\n",
    "E_{0}= \\sqrt{p} \\mathcal{I}\n",
    "\\end{equation}\n",
    "\n",
    "\\begin{equation}\n",
    "E_{1}=\\sqrt{1-p} \\sigma_y\n",
    "\\end{equation}"
   ]
  },
  {
   "cell_type": "code",
   "execution_count": 176,
   "id": "cdcec108",
   "metadata": {},
   "outputs": [
    {
     "data": {
      "text/latex": [
       "$\\displaystyle \\left[\\begin{matrix}p & 0\\\\0 & p\\end{matrix}\\right]$"
      ],
      "text/plain": [
       "Matrix([\n",
       "[p, 0],\n",
       "[0, p]])"
      ]
     },
     "execution_count": 176,
     "metadata": {},
     "output_type": "execute_result"
    }
   ],
   "source": [
    "E0=p*eye(2)\n",
    "E0"
   ]
  },
  {
   "cell_type": "code",
   "execution_count": 177,
   "id": "6796658e",
   "metadata": {},
   "outputs": [
    {
     "data": {
      "text/latex": [
       "$\\displaystyle \\left[\\begin{matrix}0 & - i \\sqrt{1 - p}\\\\i \\sqrt{1 - p} & 0\\end{matrix}\\right]$"
      ],
      "text/plain": [
       "Matrix([\n",
       "[            0, -I*sqrt(1 - p)],\n",
       "[I*sqrt(1 - p),              0]])"
      ]
     },
     "execution_count": 177,
     "metadata": {},
     "output_type": "execute_result"
    }
   ],
   "source": [
    "E1 = sqrt(1-p)*Y\n",
    "E1"
   ]
  },
  {
   "cell_type": "code",
   "execution_count": 178,
   "id": "7d3f386a",
   "metadata": {},
   "outputs": [
    {
     "data": {
      "text/latex": [
       "$\\displaystyle \\left[\\begin{matrix}\\frac{p r_{z} \\overline{p}}{2} + \\frac{p \\overline{p}}{2} - \\frac{r_{z} \\sqrt{1 - p} \\overline{\\sqrt{1 - p}}}{2} + \\frac{\\sqrt{1 - p} \\overline{\\sqrt{1 - p}}}{2} & \\frac{p r_{x} \\overline{p}}{2} - \\frac{i p r_{y} \\overline{p}}{2} - \\frac{r_{x} \\sqrt{1 - p} \\overline{\\sqrt{1 - p}}}{2} - \\frac{i r_{y} \\sqrt{1 - p} \\overline{\\sqrt{1 - p}}}{2}\\\\\\frac{p r_{x} \\overline{p}}{2} + \\frac{i p r_{y} \\overline{p}}{2} - \\frac{r_{x} \\sqrt{1 - p} \\overline{\\sqrt{1 - p}}}{2} + \\frac{i r_{y} \\sqrt{1 - p} \\overline{\\sqrt{1 - p}}}{2} & - \\frac{p r_{z} \\overline{p}}{2} + \\frac{p \\overline{p}}{2} + \\frac{r_{z} \\sqrt{1 - p} \\overline{\\sqrt{1 - p}}}{2} + \\frac{\\sqrt{1 - p} \\overline{\\sqrt{1 - p}}}{2}\\end{matrix}\\right]$"
      ],
      "text/plain": [
       "Matrix([\n",
       "[                p*r_{z}*conjugate(p)/2 + p*conjugate(p)/2 - r_{z}*sqrt(1 - p)*conjugate(sqrt(1 - p))/2 + sqrt(1 - p)*conjugate(sqrt(1 - p))/2, p*r_{x}*conjugate(p)/2 - I*p*r_{y}*conjugate(p)/2 - r_{x}*sqrt(1 - p)*conjugate(sqrt(1 - p))/2 - I*r_{y}*sqrt(1 - p)*conjugate(sqrt(1 - p))/2],\n",
       "[p*r_{x}*conjugate(p)/2 + I*p*r_{y}*conjugate(p)/2 - r_{x}*sqrt(1 - p)*conjugate(sqrt(1 - p))/2 + I*r_{y}*sqrt(1 - p)*conjugate(sqrt(1 - p))/2,                -p*r_{z}*conjugate(p)/2 + p*conjugate(p)/2 + r_{z}*sqrt(1 - p)*conjugate(sqrt(1 - p))/2 + sqrt(1 - p)*conjugate(sqrt(1 - p))/2]])"
      ]
     },
     "execution_count": 178,
     "metadata": {},
     "output_type": "execute_result"
    }
   ],
   "source": [
    "var4=E0*P*Dagger(E0)+E1*P*Dagger(E1)\n",
    "var4=var4.subs({conjugate(sqrt(λ)):sqrt(λ),conjugate(sqrt(1-λ)):sqrt(1-λ)}).expand()\n",
    "var4"
   ]
  },
  {
   "cell_type": "code",
   "execution_count": 181,
   "id": "fc7683c2",
   "metadata": {},
   "outputs": [
    {
     "data": {
      "text/latex": [
       "$\\displaystyle \\left[\\begin{matrix}p r_{x} \\overline{p} - r_{x} \\sqrt{1 - p} \\overline{\\sqrt{1 - p}}\\\\p r_{y} \\overline{p} + r_{y} \\sqrt{1 - p} \\overline{\\sqrt{1 - p}}\\\\p r_{z} \\overline{p} + p \\overline{p} - r_{z} \\sqrt{1 - p} \\overline{\\sqrt{1 - p}} + \\sqrt{1 - p} \\overline{\\sqrt{1 - p}} - 1.0\\end{matrix}\\right]$"
      ],
      "text/plain": [
       "Matrix([\n",
       "[                                                            p*r_{x}*conjugate(p) - r_{x}*sqrt(1 - p)*conjugate(sqrt(1 - p))],\n",
       "[                                                            p*r_{y}*conjugate(p) + r_{y}*sqrt(1 - p)*conjugate(sqrt(1 - p))],\n",
       "[p*r_{z}*conjugate(p) + p*conjugate(p) - r_{z}*sqrt(1 - p)*conjugate(sqrt(1 - p)) + sqrt(1 - p)*conjugate(sqrt(1 - p)) - 1.0]])"
      ]
     },
     "execution_count": 181,
     "metadata": {},
     "output_type": "execute_result"
    }
   ],
   "source": [
    "linear_eqs=[(var4[0,1]+var4[1,0]),I*(var4[0,1]-var4[1,0]),2*(var4[0,0]-1/2)]\n",
    "A,b=linear_eq_to_matrix(linear_eqs,[r[0],r[1],r[2]])\n",
    "(A*Matrix(list(r))-b).expand()"
   ]
  },
  {
   "cell_type": "code",
   "execution_count": 182,
   "id": "f5f7ad72",
   "metadata": {},
   "outputs": [
    {
     "data": {
      "text/latex": [
       "$\\displaystyle \\left[\\begin{matrix}p \\overline{p} - \\sqrt{1 - p} \\overline{\\sqrt{1 - p}} & 0 & 0\\\\0 & i \\left(- i p \\overline{p} - i \\sqrt{1 - p} \\overline{\\sqrt{1 - p}}\\right) & 0\\\\0 & 0 & p \\overline{p} - \\sqrt{1 - p} \\overline{\\sqrt{1 - p}}\\end{matrix}\\right]$"
      ],
      "text/plain": [
       "Matrix([\n",
       "[p*conjugate(p) - sqrt(1 - p)*conjugate(sqrt(1 - p)),                                                            0,                                                   0],\n",
       "[                                                  0, I*(-I*p*conjugate(p) - I*sqrt(1 - p)*conjugate(sqrt(1 - p))),                                                   0],\n",
       "[                                                  0,                                                            0, p*conjugate(p) - sqrt(1 - p)*conjugate(sqrt(1 - p))]])"
      ]
     },
     "execution_count": 182,
     "metadata": {},
     "output_type": "execute_result"
    }
   ],
   "source": [
    "A"
   ]
  },
  {
   "cell_type": "code",
   "execution_count": 183,
   "id": "ffcbca06",
   "metadata": {},
   "outputs": [
    {
     "data": {
      "text/latex": [
       "$\\displaystyle \\left[\\begin{matrix}0\\\\0\\\\p \\overline{p} + \\sqrt{1 - p} \\overline{\\sqrt{1 - p}} - 1.0\\end{matrix}\\right]$"
      ],
      "text/plain": [
       "Matrix([\n",
       "[                                                        0],\n",
       "[                                                        0],\n",
       "[p*conjugate(p) + sqrt(1 - p)*conjugate(sqrt(1 - p)) - 1.0]])"
      ]
     },
     "execution_count": 183,
     "metadata": {},
     "output_type": "execute_result"
    }
   ],
   "source": [
    "-b"
   ]
  },
  {
   "cell_type": "markdown",
   "id": "68aa184c",
   "metadata": {},
   "source": [
    "4. The depolarizing channel, The map has the form \n",
    "\n",
    "\\begin{equation}\n",
    "\\mathcal{E} (\\rho)=\\frac{p\\mathcal{I}}{2} + (1-p)\\rho\n",
    "\\end{equation}\n",
    "\n",
    "It can be represented in the operator sum representation in different ways, it can be implemented by different sum representations a convenient one is:\n",
    "\n",
    "\\begin{equation}\n",
    "\\mathcal{E} (\\rho)=\\frac{p}{3} (\\sigma_{x} \\rho \\sigma_{x} +\\sigma_{y} \\rho \\sigma_{y}+ \\sigma_{z} \\rho \\sigma_{z}) + (1-p)\\rho\n",
    "\\end{equation}"
   ]
  },
  {
   "cell_type": "code",
   "execution_count": 144,
   "id": "fe29e522",
   "metadata": {},
   "outputs": [
    {
     "data": {
      "text/latex": [
       "$\\displaystyle \\left[\\begin{matrix}0.5 p + \\left(1 - p\\right) \\left(\\frac{r_{z}}{2} + \\frac{1}{2}\\right) & \\left(1 - p\\right) \\left(\\frac{r_{x}}{2} - \\frac{i r_{y}}{2}\\right)\\\\\\left(1 - p\\right) \\left(\\frac{r_{x}}{2} + \\frac{i r_{y}}{2}\\right) & 0.5 p + \\left(\\frac{1}{2} - \\frac{r_{z}}{2}\\right) \\left(1 - p\\right)\\end{matrix}\\right]$"
      ],
      "text/plain": [
       "Matrix([\n",
       "[0.5*p + (1 - p)*(r_{z}/2 + 1/2),   (1 - p)*(r_{x}/2 - I*r_{y}/2)],\n",
       "[  (1 - p)*(r_{x}/2 + I*r_{y}/2), 0.5*p + (1/2 - r_{z}/2)*(1 - p)]])"
      ]
     },
     "execution_count": 144,
     "metadata": {},
     "output_type": "execute_result"
    }
   ],
   "source": [
    "Ɛ1 = (1/2)*p*eye(2)+(1-p)*P\n",
    "Ɛ1"
   ]
  },
  {
   "cell_type": "code",
   "execution_count": 145,
   "id": "973f1f9f",
   "metadata": {},
   "outputs": [
    {
     "data": {
      "text/latex": [
       "$\\displaystyle \\left[\\begin{matrix}- \\frac{p r_{z}}{2} + \\frac{r_{z}}{2} + \\frac{1}{2} & - \\frac{\\left(p - 1\\right) \\left(r_{x} - i r_{y}\\right)}{2}\\\\- \\frac{\\left(p - 1\\right) \\left(r_{x} + i r_{y}\\right)}{2} & \\frac{p r_{z}}{2} - \\frac{r_{z}}{2} + \\frac{1}{2}\\end{matrix}\\right]$"
      ],
      "text/plain": [
       "Matrix([\n",
       "[  -p*r_{z}/2 + r_{z}/2 + 1/2, -(p - 1)*(r_{x} - I*r_{y})/2],\n",
       "[-(p - 1)*(r_{x} + I*r_{y})/2,    p*r_{z}/2 - r_{z}/2 + 1/2]])"
      ]
     },
     "execution_count": 145,
     "metadata": {},
     "output_type": "execute_result"
    }
   ],
   "source": [
    "simplify(Ɛ1)"
   ]
  },
  {
   "cell_type": "code",
   "execution_count": 146,
   "id": "515ffa08",
   "metadata": {},
   "outputs": [
    {
     "data": {
      "text/latex": [
       "$\\displaystyle \\left[\\begin{matrix}\\frac{p \\left(\\frac{3}{2} - \\frac{r_{z}}{2}\\right)}{3} + \\left(1 - p\\right) \\left(\\frac{r_{z}}{2} + \\frac{1}{2}\\right) & \\frac{p \\left(- \\frac{r_{x}}{2} + \\frac{i r_{y}}{2}\\right)}{3} + \\left(1 - p\\right) \\left(\\frac{r_{x}}{2} - \\frac{i r_{y}}{2}\\right)\\\\\\frac{p \\left(- \\frac{r_{x}}{2} - \\frac{i r_{y}}{2}\\right)}{3} + \\left(1 - p\\right) \\left(\\frac{r_{x}}{2} + \\frac{i r_{y}}{2}\\right) & \\frac{p \\left(\\frac{r_{z}}{2} + \\frac{3}{2}\\right)}{3} + \\left(\\frac{1}{2} - \\frac{r_{z}}{2}\\right) \\left(1 - p\\right)\\end{matrix}\\right]$"
      ],
      "text/plain": [
       "Matrix([\n",
       "[             p*(3/2 - r_{z}/2)/3 + (1 - p)*(r_{z}/2 + 1/2), p*(-r_{x}/2 + I*r_{y}/2)/3 + (1 - p)*(r_{x}/2 - I*r_{y}/2)],\n",
       "[p*(-r_{x}/2 - I*r_{y}/2)/3 + (1 - p)*(r_{x}/2 + I*r_{y}/2),              p*(r_{z}/2 + 3/2)/3 + (1/2 - r_{z}/2)*(1 - p)]])"
      ]
     },
     "execution_count": 146,
     "metadata": {},
     "output_type": "execute_result"
    }
   ],
   "source": [
    "Ɛ2 = (p/3)*(X*P*X+Y*P*Y+Z*P*Z)+(1-p)*P\n",
    "Ɛ2"
   ]
  },
  {
   "cell_type": "code",
   "execution_count": 147,
   "id": "aa9b1d69",
   "metadata": {},
   "outputs": [
    {
     "data": {
      "text/latex": [
       "$\\displaystyle \\left[\\begin{matrix}- \\frac{2 p r_{z}}{3} + \\frac{r_{z}}{2} + \\frac{1}{2} & \\frac{\\left(3 - 4 p\\right) \\left(r_{x} - i r_{y}\\right)}{6}\\\\\\frac{\\left(3 - 4 p\\right) \\left(r_{x} + i r_{y}\\right)}{6} & \\frac{2 p r_{z}}{3} - \\frac{r_{z}}{2} + \\frac{1}{2}\\end{matrix}\\right]$"
      ],
      "text/plain": [
       "Matrix([\n",
       "[ -2*p*r_{z}/3 + r_{z}/2 + 1/2, (3 - 4*p)*(r_{x} - I*r_{y})/6],\n",
       "[(3 - 4*p)*(r_{x} + I*r_{y})/6,   2*p*r_{z}/3 - r_{z}/2 + 1/2]])"
      ]
     },
     "execution_count": 147,
     "metadata": {},
     "output_type": "execute_result"
    }
   ],
   "source": [
    "simplify(Ɛ2)"
   ]
  },
  {
   "cell_type": "code",
   "execution_count": 164,
   "id": "a0ed3938",
   "metadata": {},
   "outputs": [
    {
     "data": {
      "text/latex": [
       "$\\displaystyle \\left[\\begin{matrix}- \\frac{p r_{z}}{2} + \\frac{r_{z}}{2} + \\frac{1}{2} & - \\frac{p r_{x}}{2} + \\frac{i p r_{y}}{2} + \\frac{r_{x}}{2} - \\frac{i r_{y}}{2}\\\\- \\frac{p r_{x}}{2} - \\frac{i p r_{y}}{2} + \\frac{r_{x}}{2} + \\frac{i r_{y}}{2} & \\frac{p r_{z}}{2} - \\frac{r_{z}}{2} + \\frac{1}{2}\\end{matrix}\\right]$"
      ],
      "text/plain": [
       "Matrix([\n",
       "[                    -p*r_{z}/2 + r_{z}/2 + 1/2, -p*r_{x}/2 + I*p*r_{y}/2 + r_{x}/2 - I*r_{y}/2],\n",
       "[-p*r_{x}/2 - I*p*r_{y}/2 + r_{x}/2 + I*r_{y}/2,                      p*r_{z}/2 - r_{z}/2 + 1/2]])"
      ]
     },
     "execution_count": 164,
     "metadata": {},
     "output_type": "execute_result"
    }
   ],
   "source": [
    "var5=Ɛ1\n",
    "var5=var5.subs({conjugate(sqrt(λ)):sqrt(λ),conjugate(sqrt(1-λ)):sqrt(1-λ)}).expand()\n",
    "var5"
   ]
  },
  {
   "cell_type": "code",
   "execution_count": 165,
   "id": "e5efb3ec",
   "metadata": {},
   "outputs": [
    {
     "data": {
      "text/plain": [
       "[-p*r_{x} + r_{x}, I*(I*p*r_{y} - I*r_{y}), -p*r_{z} + r_{z}]"
      ]
     },
     "execution_count": 165,
     "metadata": {},
     "output_type": "execute_result"
    }
   ],
   "source": [
    "linear_eqs=[(var5[0,1]+var5[1,0]),I*(var5[0,1]-var5[1,0]),2*(var5[0,0]-1/2)]\n",
    "linear_eqs"
   ]
  },
  {
   "cell_type": "code",
   "execution_count": 166,
   "id": "59a9e39d",
   "metadata": {},
   "outputs": [],
   "source": [
    "A,b=linear_eq_to_matrix(linear_eqs,[r[0],r[1],r[2]])"
   ]
  },
  {
   "cell_type": "code",
   "execution_count": 167,
   "id": "2f22085b",
   "metadata": {},
   "outputs": [
    {
     "data": {
      "text/latex": [
       "$\\displaystyle \\left[\\begin{matrix}- p r_{x} + r_{x}\\\\- p r_{y} + r_{y}\\\\- p r_{z} + r_{z}\\end{matrix}\\right]$"
      ],
      "text/plain": [
       "Matrix([\n",
       "[-p*r_{x} + r_{x}],\n",
       "[-p*r_{y} + r_{y}],\n",
       "[-p*r_{z} + r_{z}]])"
      ]
     },
     "execution_count": 167,
     "metadata": {},
     "output_type": "execute_result"
    }
   ],
   "source": [
    "(A*Matrix(list(r))-b).expand()"
   ]
  },
  {
   "cell_type": "code",
   "execution_count": 168,
   "id": "54f739f1",
   "metadata": {},
   "outputs": [
    {
     "data": {
      "text/latex": [
       "$\\displaystyle \\left[\\begin{matrix}1 - p & 0 & 0\\\\0 & i \\left(i p - i\\right) & 0\\\\0 & 0 & 1 - p\\end{matrix}\\right]$"
      ],
      "text/plain": [
       "Matrix([\n",
       "[1 - p,           0,     0],\n",
       "[    0, I*(I*p - I),     0],\n",
       "[    0,           0, 1 - p]])"
      ]
     },
     "execution_count": 168,
     "metadata": {},
     "output_type": "execute_result"
    }
   ],
   "source": [
    "A"
   ]
  },
  {
   "cell_type": "code",
   "execution_count": 169,
   "id": "c743eb08",
   "metadata": {},
   "outputs": [
    {
     "data": {
      "text/latex": [
       "$\\displaystyle \\left[\\begin{matrix}0\\\\0\\\\0\\end{matrix}\\right]$"
      ],
      "text/plain": [
       "Matrix([\n",
       "[0],\n",
       "[0],\n",
       "[0]])"
      ]
     },
     "execution_count": 169,
     "metadata": {},
     "output_type": "execute_result"
    }
   ],
   "source": [
    "-b"
   ]
  },
  {
   "cell_type": "code",
   "execution_count": 170,
   "id": "fcaab437",
   "metadata": {},
   "outputs": [
    {
     "data": {
      "text/latex": [
       "$\\displaystyle \\left[\\begin{matrix}- \\frac{2 p r_{z}}{3} + \\frac{r_{z}}{2} + \\frac{1}{2} & - \\frac{2 p r_{x}}{3} + \\frac{2 i p r_{y}}{3} + \\frac{r_{x}}{2} - \\frac{i r_{y}}{2}\\\\- \\frac{2 p r_{x}}{3} - \\frac{2 i p r_{y}}{3} + \\frac{r_{x}}{2} + \\frac{i r_{y}}{2} & \\frac{2 p r_{z}}{3} - \\frac{r_{z}}{2} + \\frac{1}{2}\\end{matrix}\\right]$"
      ],
      "text/plain": [
       "Matrix([\n",
       "[                      -2*p*r_{z}/3 + r_{z}/2 + 1/2, -2*p*r_{x}/3 + 2*I*p*r_{y}/3 + r_{x}/2 - I*r_{y}/2],\n",
       "[-2*p*r_{x}/3 - 2*I*p*r_{y}/3 + r_{x}/2 + I*r_{y}/2,                        2*p*r_{z}/3 - r_{z}/2 + 1/2]])"
      ]
     },
     "execution_count": 170,
     "metadata": {},
     "output_type": "execute_result"
    }
   ],
   "source": [
    "var6=Ɛ2\n",
    "var6=var6.subs({conjugate(sqrt(λ)):sqrt(λ),conjugate(sqrt(1-λ)):sqrt(1-λ)}).expand()\n",
    "var6"
   ]
  },
  {
   "cell_type": "code",
   "execution_count": 171,
   "id": "4c899b0e",
   "metadata": {},
   "outputs": [
    {
     "data": {
      "text/plain": [
       "[-4*p*r_{x}/3 + r_{x}, I*(4*I*p*r_{y}/3 - I*r_{y}), -4*p*r_{z}/3 + r_{z}]"
      ]
     },
     "execution_count": 171,
     "metadata": {},
     "output_type": "execute_result"
    }
   ],
   "source": [
    "linear_eqs=[(var6[0,1]+var6[1,0]),I*(var6[0,1]-var6[1,0]),2*(var6[0,0]-1/2)]\n",
    "linear_eqs"
   ]
  },
  {
   "cell_type": "code",
   "execution_count": 172,
   "id": "af5fa868",
   "metadata": {},
   "outputs": [],
   "source": [
    "A,b=linear_eq_to_matrix(linear_eqs,[r[0],r[1],r[2]])"
   ]
  },
  {
   "cell_type": "code",
   "execution_count": 173,
   "id": "3154c3f7",
   "metadata": {},
   "outputs": [
    {
     "data": {
      "text/latex": [
       "$\\displaystyle \\left[\\begin{matrix}- \\frac{4 p r_{x}}{3} + r_{x}\\\\- \\frac{4 p r_{y}}{3} + r_{y}\\\\- \\frac{4 p r_{z}}{3} + r_{z}\\end{matrix}\\right]$"
      ],
      "text/plain": [
       "Matrix([\n",
       "[-4*p*r_{x}/3 + r_{x}],\n",
       "[-4*p*r_{y}/3 + r_{y}],\n",
       "[-4*p*r_{z}/3 + r_{z}]])"
      ]
     },
     "execution_count": 173,
     "metadata": {},
     "output_type": "execute_result"
    }
   ],
   "source": [
    "(A*Matrix(list(r))-b).expand()"
   ]
  },
  {
   "cell_type": "code",
   "execution_count": 174,
   "id": "4e0b1545",
   "metadata": {},
   "outputs": [
    {
     "data": {
      "text/latex": [
       "$\\displaystyle \\left[\\begin{matrix}1 - \\frac{4 p}{3} & 0 & 0\\\\0 & i \\left(\\frac{4 i p}{3} - i\\right) & 0\\\\0 & 0 & 1 - \\frac{4 p}{3}\\end{matrix}\\right]$"
      ],
      "text/plain": [
       "Matrix([\n",
       "[1 - 4*p/3,               0,         0],\n",
       "[        0, I*(4*I*p/3 - I),         0],\n",
       "[        0,               0, 1 - 4*p/3]])"
      ]
     },
     "execution_count": 174,
     "metadata": {},
     "output_type": "execute_result"
    }
   ],
   "source": [
    "A"
   ]
  },
  {
   "cell_type": "code",
   "execution_count": 175,
   "id": "eeb3fd98",
   "metadata": {},
   "outputs": [
    {
     "data": {
      "text/latex": [
       "$\\displaystyle \\left[\\begin{matrix}0\\\\0\\\\0\\end{matrix}\\right]$"
      ],
      "text/plain": [
       "Matrix([\n",
       "[0],\n",
       "[0],\n",
       "[0]])"
      ]
     },
     "execution_count": 175,
     "metadata": {},
     "output_type": "execute_result"
    }
   ],
   "source": [
    "-b"
   ]
  }
 ],
 "metadata": {
  "kernelspec": {
   "display_name": "Python 3 (ipykernel)",
   "language": "python",
   "name": "python3"
  },
  "language_info": {
   "codemirror_mode": {
    "name": "ipython",
    "version": 3
   },
   "file_extension": ".py",
   "mimetype": "text/x-python",
   "name": "python",
   "nbconvert_exporter": "python",
   "pygments_lexer": "ipython3",
   "version": "3.9.7"
  }
 },
 "nbformat": 4,
 "nbformat_minor": 5
}
